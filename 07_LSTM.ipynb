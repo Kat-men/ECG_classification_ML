{
 "cells": [
  {
   "cell_type": "code",
   "execution_count": 2,
   "metadata": {},
   "outputs": [
    {
     "name": "stdout",
     "output_type": "stream",
     "text": [
      "Collecting os-sys\n",
      "  Using cached os_sys-2.1.4-py3-none-any.whl (15.6 MB)\n",
      "Collecting mathparse<0.2,>=0.1\n",
      "  Downloading mathparse-0.1.2-py3-none-any.whl (7.2 kB)\n",
      "Requirement already satisfied: nltk<4.0,>=3.2 in c:\\users\\kamen\\anaconda3\\lib\\site-packages (from os-sys) (3.5)\n",
      "Collecting extract-zip\n",
      "  Downloading extract_zip-1.0.0-py3-none-any.whl (2.6 kB)\n",
      "Collecting Django\n",
      "  Using cached Django-3.1.7-py3-none-any.whl (7.8 MB)\n",
      "Collecting auto-py-to-exe\n",
      "  Using cached auto_py_to_exe-2.8.0-py2.py3-none-any.whl (79 kB)\n",
      "Collecting sqlparse\n",
      "  Downloading sqlparse-0.4.1-py3-none-any.whl (42 kB)\n",
      "Collecting pint>=0.8.1\n",
      "  Downloading Pint-0.16.1-py2.py3-none-any.whl (205 kB)\n",
      "Collecting geocoder\n",
      "  Downloading geocoder-1.38.1-py2.py3-none-any.whl (98 kB)\n",
      "Collecting os-sys-php\n",
      "  Downloading os_sys_php-2019.10.13-py3-none-any.whl (38.6 MB)\n",
      "Requirement already satisfied: tqdm in c:\\users\\kamen\\anaconda3\\lib\\site-packages (from os-sys) (4.47.0)\n",
      "Collecting python-dateutil<2.8,>=2.7\n",
      "  Downloading python_dateutil-2.7.5-py2.py3-none-any.whl (225 kB)\n",
      "Collecting spacy==2.2.0\n",
      "  Using cached spacy-2.2.0.tar.gz (5.8 MB)\n",
      "  Installing build dependencies: started\n",
      "  Installing build dependencies: finished with status 'done'\n",
      "  Getting requirements to build wheel: started\n",
      "  Getting requirements to build wheel: finished with status 'done'\n",
      "  Installing backend dependencies: started\n",
      "  Installing backend dependencies: finished with status 'error'\n"
     ]
    },
    {
     "name": "stderr",
     "output_type": "stream",
     "text": [
      "  ERROR: Command errored out with exit status 1:\n",
      "   command: 'C:\\Users\\kamen\\anaconda3\\python.exe' 'C:\\Users\\kamen\\anaconda3\\lib\\site-packages\\pip' install --ignore-installed --no-user --prefix 'C:\\Users\\kamen\\AppData\\Local\\Temp\\pip-build-env-bwm0c7zd\\normal' --no-warn-script-location --no-binary :none: --only-binary :none: -i https://pypi.org/simple -- 'cython>=0.25' 'cymem<2.1.0,>=2.0.2' wheel 'thinc<7.2.0,>=7.1.1' 'murmurhash<1.1.0,>=0.28.0' 'preshed<3.1.0,>=3.0.2'\n",
      "       cwd: None\n",
      "  Complete output (216 lines):\n",
      "  Collecting cython>=0.25\n",
      "    Using cached Cython-0.29.22-cp38-cp38-win_amd64.whl (1.7 MB)\n",
      "  Collecting cymem<2.1.0,>=2.0.2\n",
      "    Using cached cymem-2.0.5-cp38-cp38-win_amd64.whl (36 kB)\n",
      "  Collecting wheel\n",
      "    Using cached wheel-0.36.2-py2.py3-none-any.whl (35 kB)\n",
      "  Collecting thinc<7.2.0,>=7.1.1\n",
      "    Using cached thinc-7.1.1.tar.gz (1.9 MB)\n",
      "  Collecting murmurhash<1.1.0,>=0.28.0\n",
      "    Using cached murmurhash-1.0.5-cp38-cp38-win_amd64.whl (21 kB)\n",
      "  Collecting preshed<3.1.0,>=3.0.2\n",
      "    Using cached preshed-3.0.5-cp38-cp38-win_amd64.whl (112 kB)\n",
      "  Collecting blis<0.5.0,>=0.4.0\n",
      "    Using cached blis-0.4.1-cp38-cp38-win_amd64.whl (5.0 MB)\n",
      "  Collecting wasabi<1.1.0,>=0.0.9\n",
      "    Using cached wasabi-0.8.2-py3-none-any.whl (23 kB)\n",
      "  Collecting srsly<1.1.0,>=0.0.6\n",
      "    Using cached srsly-1.0.5-cp38-cp38-win_amd64.whl (178 kB)\n",
      "  Collecting numpy>=1.7.0\n",
      "    Using cached numpy-1.20.1-cp38-cp38-win_amd64.whl (13.7 MB)\n",
      "  Collecting plac<1.0.0,>=0.9.6\n",
      "    Using cached plac-0.9.6-py2.py3-none-any.whl (20 kB)\n",
      "  Collecting tqdm<5.0.0,>=4.10.0\n",
      "    Using cached tqdm-4.58.0-py2.py3-none-any.whl (73 kB)\n",
      "  Building wheels for collected packages: thinc\n",
      "    Building wheel for thinc (setup.py): started\n",
      "    Building wheel for thinc (setup.py): finished with status 'error'\n",
      "    ERROR: Command errored out with exit status 1:\n",
      "     command: 'C:\\Users\\kamen\\anaconda3\\python.exe' -u -c 'import sys, setuptools, tokenize; sys.argv[0] = '\"'\"'C:\\\\Users\\\\kamen\\\\AppData\\\\Local\\\\Temp\\\\pip-install-z1ecvcsg\\\\thinc\\\\setup.py'\"'\"'; __file__='\"'\"'C:\\\\Users\\\\kamen\\\\AppData\\\\Local\\\\Temp\\\\pip-install-z1ecvcsg\\\\thinc\\\\setup.py'\"'\"';f=getattr(tokenize, '\"'\"'open'\"'\"', open)(__file__);code=f.read().replace('\"'\"'\\r\\n'\"'\"', '\"'\"'\\n'\"'\"');f.close();exec(compile(code, __file__, '\"'\"'exec'\"'\"'))' bdist_wheel -d 'C:\\Users\\kamen\\AppData\\Local\\Temp\\pip-wheel-ccxg_2fx'\n",
      "         cwd: C:\\Users\\kamen\\AppData\\Local\\Temp\\pip-install-z1ecvcsg\\thinc\\\n",
      "    Complete output (166 lines):\n",
      "    running bdist_wheel\n",
      "    running build\n",
      "    running build_py\n",
      "    creating build\n",
      "    creating build\\lib.win-amd64-3.8\n",
      "    creating build\\lib.win-amd64-3.8\\thinc\n",
      "    copying thinc\\about.py -> build\\lib.win-amd64-3.8\\thinc\n",
      "    copying thinc\\api.py -> build\\lib.win-amd64-3.8\\thinc\n",
      "    copying thinc\\check.py -> build\\lib.win-amd64-3.8\\thinc\n",
      "    copying thinc\\compat.py -> build\\lib.win-amd64-3.8\\thinc\n",
      "    copying thinc\\describe.py -> build\\lib.win-amd64-3.8\\thinc\n",
      "    copying thinc\\exceptions.py -> build\\lib.win-amd64-3.8\\thinc\n",
      "    copying thinc\\i2v.py -> build\\lib.win-amd64-3.8\\thinc\n",
      "    copying thinc\\loss.py -> build\\lib.win-amd64-3.8\\thinc\n",
      "    copying thinc\\misc.py -> build\\lib.win-amd64-3.8\\thinc\n",
      "    copying thinc\\rates.py -> build\\lib.win-amd64-3.8\\thinc\n",
      "    copying thinc\\t2t.py -> build\\lib.win-amd64-3.8\\thinc\n",
      "    copying thinc\\t2v.py -> build\\lib.win-amd64-3.8\\thinc\n",
      "    copying thinc\\v2v.py -> build\\lib.win-amd64-3.8\\thinc\n",
      "    copying thinc\\__init__.py -> build\\lib.win-amd64-3.8\\thinc\n",
      "    creating build\\lib.win-amd64-3.8\\thinc\\tests\n",
      "    copying thinc\\tests\\conftest.py -> build\\lib.win-amd64-3.8\\thinc\\tests\n",
      "    copying thinc\\tests\\strategies.py -> build\\lib.win-amd64-3.8\\thinc\\tests\n",
      "    copying thinc\\tests\\test_api_funcs.py -> build\\lib.win-amd64-3.8\\thinc\\tests\n",
      "    copying thinc\\tests\\test_util.py -> build\\lib.win-amd64-3.8\\thinc\\tests\n",
      "    copying thinc\\tests\\util.py -> build\\lib.win-amd64-3.8\\thinc\\tests\n",
      "    copying thinc\\tests\\__init__.py -> build\\lib.win-amd64-3.8\\thinc\\tests\n",
      "    creating build\\lib.win-amd64-3.8\\thinc\\tests\\unit\n",
      "    copying thinc\\tests\\unit\\test_about.py -> build\\lib.win-amd64-3.8\\thinc\\tests\\unit\n",
      "    copying thinc\\tests\\unit\\test_affine.py -> build\\lib.win-amd64-3.8\\thinc\\tests\\unit\n",
      "    copying thinc\\tests\\unit\\test_beam_search.py -> build\\lib.win-amd64-3.8\\thinc\\tests\\unit\n",
      "    copying thinc\\tests\\unit\\test_check_exceptions.py -> build\\lib.win-amd64-3.8\\thinc\\tests\\unit\n",
      "    copying thinc\\tests\\unit\\test_difference.py -> build\\lib.win-amd64-3.8\\thinc\\tests\\unit\n",
      "    copying thinc\\tests\\unit\\test_feature_extracter.py -> build\\lib.win-amd64-3.8\\thinc\\tests\\unit\n",
      "    copying thinc\\tests\\unit\\test_hash_embed.py -> build\\lib.win-amd64-3.8\\thinc\\tests\\unit\n",
      "    copying thinc\\tests\\unit\\test_imports.py -> build\\lib.win-amd64-3.8\\thinc\\tests\\unit\n",
      "    copying thinc\\tests\\unit\\test_linear.py -> build\\lib.win-amd64-3.8\\thinc\\tests\\unit\n",
      "    copying thinc\\tests\\unit\\test_loss.py -> build\\lib.win-amd64-3.8\\thinc\\tests\\unit\n",
      "    copying thinc\\tests\\unit\\test_mem.py -> build\\lib.win-amd64-3.8\\thinc\\tests\\unit\n",
      "    copying thinc\\tests\\unit\\test_model.py -> build\\lib.win-amd64-3.8\\thinc\\tests\\unit\n",
      "    copying thinc\\tests\\unit\\test_ops.py -> build\\lib.win-amd64-3.8\\thinc\\tests\\unit\n",
      "    copying thinc\\tests\\unit\\test_pickle.py -> build\\lib.win-amd64-3.8\\thinc\\tests\\unit\n",
      "    copying thinc\\tests\\unit\\test_pooling.py -> build\\lib.win-amd64-3.8\\thinc\\tests\\unit\n",
      "    copying thinc\\tests\\unit\\test_pytorch_wrapper.py -> build\\lib.win-amd64-3.8\\thinc\\tests\\unit\n",
      "    copying thinc\\tests\\unit\\test_rates.py -> build\\lib.win-amd64-3.8\\thinc\\tests\\unit\n",
      "    copying thinc\\tests\\unit\\test_rnn.py -> build\\lib.win-amd64-3.8\\thinc\\tests\\unit\n",
      "    copying thinc\\tests\\unit\\__init__.py -> build\\lib.win-amd64-3.8\\thinc\\tests\\unit\n",
      "    creating build\\lib.win-amd64-3.8\\thinc\\tests\\integration\n",
      "    copying thinc\\tests\\integration\\test_affine_learns.py -> build\\lib.win-amd64-3.8\\thinc\\tests\\integration\n",
      "    copying thinc\\tests\\integration\\test_basic_tagger.py -> build\\lib.win-amd64-3.8\\thinc\\tests\\integration\n",
      "    copying thinc\\tests\\integration\\test_batch_norm.py -> build\\lib.win-amd64-3.8\\thinc\\tests\\integration\n",
      "    copying thinc\\tests\\integration\\test_feed_forward.py -> build\\lib.win-amd64-3.8\\thinc\\tests\\integration\n",
      "    copying thinc\\tests\\integration\\test_mnist.py -> build\\lib.win-amd64-3.8\\thinc\\tests\\integration\n",
      "    copying thinc\\tests\\integration\\test_pickle.py -> build\\lib.win-amd64-3.8\\thinc\\tests\\integration\n",
      "    copying thinc\\tests\\integration\\test_roundtrip_bytes.py -> build\\lib.win-amd64-3.8\\thinc\\tests\\integration\n",
      "    copying thinc\\tests\\integration\\test_shape_check.py -> build\\lib.win-amd64-3.8\\thinc\\tests\\integration\n",
      "    copying thinc\\tests\\integration\\__init__.py -> build\\lib.win-amd64-3.8\\thinc\\tests\\integration\n",
      "    creating build\\lib.win-amd64-3.8\\thinc\\tests\\linear\n",
      "    copying thinc\\tests\\linear\\test_avgtron.py -> build\\lib.win-amd64-3.8\\thinc\\tests\\linear\n",
      "    copying thinc\\tests\\linear\\test_linear.py -> build\\lib.win-amd64-3.8\\thinc\\tests\\linear\n",
      "    copying thinc\\tests\\linear\\test_sparse_array.py -> build\\lib.win-amd64-3.8\\thinc\\tests\\linear\n",
      "    copying thinc\\tests\\linear\\__init__.py -> build\\lib.win-amd64-3.8\\thinc\\tests\\linear\n",
      "    creating build\\lib.win-amd64-3.8\\thinc\\linear\n",
      "    copying thinc\\linear\\__init__.py -> build\\lib.win-amd64-3.8\\thinc\\linear\n",
      "    creating build\\lib.win-amd64-3.8\\thinc\\neural\n",
      "    copying thinc\\neural\\mem.py -> build\\lib.win-amd64-3.8\\thinc\\neural\n",
      "    copying thinc\\neural\\pooling.py -> build\\lib.win-amd64-3.8\\thinc\\neural\n",
      "    copying thinc\\neural\\train.py -> build\\lib.win-amd64-3.8\\thinc\\neural\n",
      "    copying thinc\\neural\\util.py -> build\\lib.win-amd64-3.8\\thinc\\neural\n",
      "    copying thinc\\neural\\vec2vec.py -> build\\lib.win-amd64-3.8\\thinc\\neural\n",
      "    copying thinc\\neural\\vecs2vec.py -> build\\lib.win-amd64-3.8\\thinc\\neural\n",
      "    copying thinc\\neural\\vecs2vecs.py -> build\\lib.win-amd64-3.8\\thinc\\neural\n",
      "    copying thinc\\neural\\_lsuv.py -> build\\lib.win-amd64-3.8\\thinc\\neural\n",
      "    copying thinc\\neural\\__init__.py -> build\\lib.win-amd64-3.8\\thinc\\neural\n",
      "    creating build\\lib.win-amd64-3.8\\thinc\\extra\n",
      "    copying thinc\\extra\\datasets.py -> build\\lib.win-amd64-3.8\\thinc\\extra\n",
      "    copying thinc\\extra\\hpbff.py -> build\\lib.win-amd64-3.8\\thinc\\extra\n",
      "    copying thinc\\extra\\load_nlp.py -> build\\lib.win-amd64-3.8\\thinc\\extra\n",
      "    copying thinc\\extra\\visualizer.py -> build\\lib.win-amd64-3.8\\thinc\\extra\n",
      "    copying thinc\\extra\\wrappers.py -> build\\lib.win-amd64-3.8\\thinc\\extra\n",
      "    copying thinc\\extra\\__init__.py -> build\\lib.win-amd64-3.8\\thinc\\extra\n",
      "    creating build\\lib.win-amd64-3.8\\thinc\\neural\\_classes\n",
      "    copying thinc\\neural\\_classes\\affine.py -> build\\lib.win-amd64-3.8\\thinc\\neural\\_classes\n",
      "    copying thinc\\neural\\_classes\\attention.py -> build\\lib.win-amd64-3.8\\thinc\\neural\\_classes\n",
      "    copying thinc\\neural\\_classes\\batchnorm.py -> build\\lib.win-amd64-3.8\\thinc\\neural\\_classes\n",
      "    copying thinc\\neural\\_classes\\convolution.py -> build\\lib.win-amd64-3.8\\thinc\\neural\\_classes\n",
      "    copying thinc\\neural\\_classes\\difference.py -> build\\lib.win-amd64-3.8\\thinc\\neural\\_classes\n",
      "    copying thinc\\neural\\_classes\\elu.py -> build\\lib.win-amd64-3.8\\thinc\\neural\\_classes\n",
      "    copying thinc\\neural\\_classes\\embed.py -> build\\lib.win-amd64-3.8\\thinc\\neural\\_classes\n",
      "    copying thinc\\neural\\_classes\\encoder_decoder.py -> build\\lib.win-amd64-3.8\\thinc\\neural\\_classes\n",
      "    copying thinc\\neural\\_classes\\feature_extracter.py -> build\\lib.win-amd64-3.8\\thinc\\neural\\_classes\n",
      "    copying thinc\\neural\\_classes\\feed_forward.py -> build\\lib.win-amd64-3.8\\thinc\\neural\\_classes\n",
      "    copying thinc\\neural\\_classes\\function_layer.py -> build\\lib.win-amd64-3.8\\thinc\\neural\\_classes\n",
      "    copying thinc\\neural\\_classes\\hash_embed.py -> build\\lib.win-amd64-3.8\\thinc\\neural\\_classes\n",
      "    copying thinc\\neural\\_classes\\layernorm.py -> build\\lib.win-amd64-3.8\\thinc\\neural\\_classes\n",
      "    copying thinc\\neural\\_classes\\maxout.py -> build\\lib.win-amd64-3.8\\thinc\\neural\\_classes\n",
      "    copying thinc\\neural\\_classes\\model.py -> build\\lib.win-amd64-3.8\\thinc\\neural\\_classes\n",
      "    copying thinc\\neural\\_classes\\multiheaded_attention.py -> build\\lib.win-amd64-3.8\\thinc\\neural\\_classes\n",
      "    copying thinc\\neural\\_classes\\relu.py -> build\\lib.win-amd64-3.8\\thinc\\neural\\_classes\n",
      "    copying thinc\\neural\\_classes\\resnet.py -> build\\lib.win-amd64-3.8\\thinc\\neural\\_classes\n",
      "    copying thinc\\neural\\_classes\\rnn.py -> build\\lib.win-amd64-3.8\\thinc\\neural\\_classes\n",
      "    copying thinc\\neural\\_classes\\selu.py -> build\\lib.win-amd64-3.8\\thinc\\neural\\_classes\n",
      "    copying thinc\\neural\\_classes\\softmax.py -> build\\lib.win-amd64-3.8\\thinc\\neural\\_classes\n",
      "    copying thinc\\neural\\_classes\\static_vectors.py -> build\\lib.win-amd64-3.8\\thinc\\neural\\_classes\n",
      "    copying thinc\\neural\\_classes\\__init__.py -> build\\lib.win-amd64-3.8\\thinc\\neural\\_classes\n",
      "    creating build\\lib.win-amd64-3.8\\thinc\\extra\\_vendorized\n",
      "    copying thinc\\extra\\_vendorized\\keras_datasets.py -> build\\lib.win-amd64-3.8\\thinc\\extra\\_vendorized\n",
      "    copying thinc\\extra\\_vendorized\\keras_data_utils.py -> build\\lib.win-amd64-3.8\\thinc\\extra\\_vendorized\n",
      "    copying thinc\\extra\\_vendorized\\keras_generic_utils.py -> build\\lib.win-amd64-3.8\\thinc\\extra\\_vendorized\n",
      "    copying thinc\\extra\\_vendorized\\__init__.py -> build\\lib.win-amd64-3.8\\thinc\\extra\\_vendorized\n",
      "    creating build\\lib.win-amd64-3.8\\thinc\\extra\\wrapt\n",
      "    copying thinc\\extra\\wrapt\\decorators.py -> build\\lib.win-amd64-3.8\\thinc\\extra\\wrapt\n",
      "    copying thinc\\extra\\wrapt\\importer.py -> build\\lib.win-amd64-3.8\\thinc\\extra\\wrapt\n",
      "    copying thinc\\extra\\wrapt\\wrappers.py -> build\\lib.win-amd64-3.8\\thinc\\extra\\wrapt\n",
      "    copying thinc\\extra\\wrapt\\__init__.py -> build\\lib.win-amd64-3.8\\thinc\\extra\\wrapt\n",
      "    copying thinc\\linalg.pyx -> build\\lib.win-amd64-3.8\\thinc\n",
      "    copying thinc\\structs.pyx -> build\\lib.win-amd64-3.8\\thinc\n",
      "    copying thinc\\typedefs.pyx -> build\\lib.win-amd64-3.8\\thinc\n",
      "    copying thinc\\cpu.pxd -> build\\lib.win-amd64-3.8\\thinc\n",
      "    copying thinc\\linalg.pxd -> build\\lib.win-amd64-3.8\\thinc\n",
      "    copying thinc\\structs.pxd -> build\\lib.win-amd64-3.8\\thinc\n",
      "    copying thinc\\typedefs.pxd -> build\\lib.win-amd64-3.8\\thinc\n",
      "    copying thinc\\__init__.pxd -> build\\lib.win-amd64-3.8\\thinc\n",
      "    copying thinc\\compile_time_constants.pxi -> build\\lib.win-amd64-3.8\\thinc\n",
      "    copying thinc\\linalg.cpp -> build\\lib.win-amd64-3.8\\thinc\n",
      "    copying thinc\\structs.cpp -> build\\lib.win-amd64-3.8\\thinc\n",
      "    copying thinc\\typedefs.cpp -> build\\lib.win-amd64-3.8\\thinc\n",
      "    copying thinc\\linear\\avgtron.pyx -> build\\lib.win-amd64-3.8\\thinc\\linear\n",
      "    copying thinc\\linear\\features.pyx -> build\\lib.win-amd64-3.8\\thinc\\linear\n",
      "    copying thinc\\linear\\linear.pyx -> build\\lib.win-amd64-3.8\\thinc\\linear\n",
      "    copying thinc\\linear\\serialize.pyx -> build\\lib.win-amd64-3.8\\thinc\\linear\n",
      "    copying thinc\\linear\\sparse.pyx -> build\\lib.win-amd64-3.8\\thinc\\linear\n",
      "    copying thinc\\linear\\avgtron.pxd -> build\\lib.win-amd64-3.8\\thinc\\linear\n",
      "    copying thinc\\linear\\features.pxd -> build\\lib.win-amd64-3.8\\thinc\\linear\n",
      "    copying thinc\\linear\\serialize.pxd -> build\\lib.win-amd64-3.8\\thinc\\linear\n",
      "    copying thinc\\linear\\sparse.pxd -> build\\lib.win-amd64-3.8\\thinc\\linear\n",
      "    copying thinc\\linear\\__init__.pxd -> build\\lib.win-amd64-3.8\\thinc\\linear\n",
      "    copying thinc\\linear\\avgtron.cpp -> build\\lib.win-amd64-3.8\\thinc\\linear\n",
      "    copying thinc\\linear\\features.cpp -> build\\lib.win-amd64-3.8\\thinc\\linear\n",
      "    copying thinc\\linear\\linear.cpp -> build\\lib.win-amd64-3.8\\thinc\\linear\n",
      "    copying thinc\\linear\\serialize.cpp -> build\\lib.win-amd64-3.8\\thinc\\linear\n",
      "    copying thinc\\linear\\sparse.cpp -> build\\lib.win-amd64-3.8\\thinc\\linear\n",
      "    copying thinc\\neural\\ops.pyx -> build\\lib.win-amd64-3.8\\thinc\\neural\n",
      "    copying thinc\\neural\\optimizers.pyx -> build\\lib.win-amd64-3.8\\thinc\\neural\n",
      "    copying thinc\\neural\\_aligned_alloc.pyx -> build\\lib.win-amd64-3.8\\thinc\\neural\n",
      "    copying thinc\\neural\\cpu.pxd -> build\\lib.win-amd64-3.8\\thinc\\neural\n",
      "    copying thinc\\neural\\ops.pxd -> build\\lib.win-amd64-3.8\\thinc\\neural\n",
      "    copying thinc\\neural\\__init__.pxd -> build\\lib.win-amd64-3.8\\thinc\\neural\n",
      "    copying thinc\\neural\\ops.cpp -> build\\lib.win-amd64-3.8\\thinc\\neural\n",
      "    copying thinc\\neural\\optimizers.cpp -> build\\lib.win-amd64-3.8\\thinc\\neural\n",
      "    copying thinc\\neural\\_aligned_alloc.cpp -> build\\lib.win-amd64-3.8\\thinc\\neural\n",
      "    copying thinc\\extra\\cache.pyx -> build\\lib.win-amd64-3.8\\thinc\\extra\n",
      "    copying thinc\\extra\\eg.pyx -> build\\lib.win-amd64-3.8\\thinc\\extra\n",
      "    copying thinc\\extra\\mb.pyx -> build\\lib.win-amd64-3.8\\thinc\\extra\n",
      "    copying thinc\\extra\\search.pyx -> build\\lib.win-amd64-3.8\\thinc\\extra\n",
      "    copying thinc\\extra\\cache.pxd -> build\\lib.win-amd64-3.8\\thinc\\extra\n",
      "    copying thinc\\extra\\eg.pxd -> build\\lib.win-amd64-3.8\\thinc\\extra\n",
      "    copying thinc\\extra\\mb.pxd -> build\\lib.win-amd64-3.8\\thinc\\extra\n",
      "    copying thinc\\extra\\search.pxd -> build\\lib.win-amd64-3.8\\thinc\\extra\n",
      "    copying thinc\\extra\\__init__.pxd -> build\\lib.win-amd64-3.8\\thinc\\extra\n",
      "    copying thinc\\extra\\cache.cpp -> build\\lib.win-amd64-3.8\\thinc\\extra\n",
      "    copying thinc\\extra\\eg.cpp -> build\\lib.win-amd64-3.8\\thinc\\extra\n",
      "    copying thinc\\extra\\mb.cpp -> build\\lib.win-amd64-3.8\\thinc\\extra\n",
      "    copying thinc\\extra\\search.cpp -> build\\lib.win-amd64-3.8\\thinc\\extra\n",
      "    running build_ext\n",
      "    error: Microsoft Visual C++ 14.0 is required. Get it with \"Build Tools for Visual Studio\": https://visualstudio.microsoft.com/downloads/\n",
      "    ----------------------------------------\n",
      "    ERROR: Failed building wheel for thinc\n",
      "    Running setup.py clean for thinc\n",
      "  Failed to build thinc\n",
      "  ERROR: tensorflow 2.4.1 has requirement numpy~=1.19.2, but you'll have numpy 1.20.1 which is incompatible.\n",
      "  Installing collected packages: cython, cymem, wheel, murmurhash, preshed, numpy, blis, wasabi, srsly, plac, tqdm, thinc\n",
      "      Running setup.py install for thinc: started\n",
      "      Running setup.py install for thinc: finished with status 'error'\n",
      "      ERROR: Command errored out with exit status 1:\n",
      "       command: 'C:\\Users\\kamen\\anaconda3\\python.exe' -u -c 'import sys, setuptools, tokenize; sys.argv[0] = '\"'\"'C:\\\\Users\\\\kamen\\\\AppData\\\\Local\\\\Temp\\\\pip-install-z1ecvcsg\\\\thinc\\\\setup.py'\"'\"'; __file__='\"'\"'C:\\\\Users\\\\kamen\\\\AppData\\\\Local\\\\Temp\\\\pip-install-z1ecvcsg\\\\thinc\\\\setup.py'\"'\"';f=getattr(tokenize, '\"'\"'open'\"'\"', open)(__file__);code=f.read().replace('\"'\"'\\r\\n'\"'\"', '\"'\"'\\n'\"'\"');f.close();exec(compile(code, __file__, '\"'\"'exec'\"'\"'))' install --record 'C:\\Users\\kamen\\AppData\\Local\\Temp\\pip-record-bdwbkurn\\install-record.txt' --single-version-externally-managed --prefix 'C:\\Users\\kamen\\AppData\\Local\\Temp\\pip-build-env-bwm0c7zd\\normal' --compile --install-headers 'C:\\Users\\kamen\\AppData\\Local\\Temp\\pip-build-env-bwm0c7zd\\normal\\Include\\thinc'\n",
      "           cwd: C:\\Users\\kamen\\AppData\\Local\\Temp\\pip-install-z1ecvcsg\\thinc\\\n",
      "      Complete output (5 lines):\n",
      "      running install\n",
      "      running build\n",
      "      running build_py\n",
      "      running build_ext\n",
      "      error: Microsoft Visual C++ 14.0 is required. Get it with \"Build Tools for Visual Studio\": https://visualstudio.microsoft.com/downloads/\n",
      "      ----------------------------------------\n",
      "  ERROR: Command errored out with exit status 1: 'C:\\Users\\kamen\\anaconda3\\python.exe' -u -c 'import sys, setuptools, tokenize; sys.argv[0] = '\"'\"'C:\\\\Users\\\\kamen\\\\AppData\\\\Local\\\\Temp\\\\pip-install-z1ecvcsg\\\\thinc\\\\setup.py'\"'\"'; __file__='\"'\"'C:\\\\Users\\\\kamen\\\\AppData\\\\Local\\\\Temp\\\\pip-install-z1ecvcsg\\\\thinc\\\\setup.py'\"'\"';f=getattr(tokenize, '\"'\"'open'\"'\"', open)(__file__);code=f.read().replace('\"'\"'\\r\\n'\"'\"', '\"'\"'\\n'\"'\"');f.close();exec(compile(code, __file__, '\"'\"'exec'\"'\"'))' install --record 'C:\\Users\\kamen\\AppData\\Local\\Temp\\pip-record-bdwbkurn\\install-record.txt' --single-version-externally-managed --prefix 'C:\\Users\\kamen\\AppData\\Local\\Temp\\pip-build-env-bwm0c7zd\\normal' --compile --install-headers 'C:\\Users\\kamen\\AppData\\Local\\Temp\\pip-build-env-bwm0c7zd\\normal\\Include\\thinc' Check the logs for full command output.\n",
      "  ----------------------------------------\n",
      "ERROR: Command errored out with exit status 1: 'C:\\Users\\kamen\\anaconda3\\python.exe' 'C:\\Users\\kamen\\anaconda3\\lib\\site-packages\\pip' install --ignore-installed --no-user --prefix 'C:\\Users\\kamen\\AppData\\Local\\Temp\\pip-build-env-bwm0c7zd\\normal' --no-warn-script-location --no-binary :none: --only-binary :none: -i https://pypi.org/simple -- 'cython>=0.25' 'cymem<2.1.0,>=2.0.2' wheel 'thinc<7.2.0,>=7.1.1' 'murmurhash<1.1.0,>=0.28.0' 'preshed<3.1.0,>=3.0.2' Check the logs for full command output.\n"
     ]
    }
   ],
   "source": [
    "!pip install os-sys"
   ]
  },
  {
   "cell_type": "code",
   "execution_count": 1,
   "metadata": {},
   "outputs": [
    {
     "name": "stdout",
     "output_type": "stream",
     "text": [
      "библиотеки загружены\n"
     ]
    }
   ],
   "source": [
    "import numpy as np\n",
    "import pandas as pd\n",
    "import os\n",
    "import matplotlib.pyplot as plt\n",
    "import tensorflow as tf\n",
    "from wfdb.io import get_record_list\n",
    "from wfdb import rdsamp\n",
    "from tensorflow.keras import layers\n",
    "from scipy.signal import resample_poly\n",
    "\n",
    "print('библиотеки загружены')"
   ]
  },
  {
   "cell_type": "code",
   "execution_count": 5,
   "metadata": {},
   "outputs": [
    {
     "name": "stdout",
     "output_type": "stream",
     "text": [
      "106684\n",
      "[1 0 0 ... 0 0 0]\n",
      "[[[0.705586 0.865366 0.532801 ... 0.       0.       0.      ]]\n",
      "\n",
      " [[0.676751 0.789063 0.181331 ... 0.       0.       0.      ]]\n",
      "\n",
      " [[0.676241 0.714362 0.553126 ... 0.       0.       0.      ]]\n",
      "\n",
      " ...\n",
      "\n",
      " [[0.857404 0.735331 0.056984 ... 0.       0.       0.      ]]\n",
      "\n",
      " [[0.947858 0.7606   0.294646 ... 0.       0.       0.      ]]\n",
      "\n",
      " [[0.650051 0.684381 0.565188 ... 0.       0.       0.      ]]]\n",
      "(21337, 1, 1)\n",
      "базы данных загружены и разделены\n"
     ]
    }
   ],
   "source": [
    "# Training dataset.\n",
    "df = pd.read_csv(\"train.csv\", header=None)\n",
    "x_train = df.values[:, :-3]\n",
    "y_train = df.values[:, -3].astype(int)\n",
    "print(np.shape(x_train)[0])\n",
    "print(y_train)\n",
    "#max_len = x_train.shape[] \n",
    "#print(max_len)\n",
    "x_train = x_train.reshape(np.shape(x_train)[0],1,-1) \n",
    "y_train = y_train.reshape(np.shape(y_train)[0],1,-1) \n",
    "\n",
    "# Validation dataset.\n",
    "df = pd.read_csv(\"validate.csv\", header=None)\n",
    "x_validate = df.values[:, :-3]\n",
    "y_validate = df.values[:, -3].astype(int)\n",
    "x_validate = x_validate.reshape(np.shape(x_validate)[0],1,-1) \n",
    "y_validate = y_validate.reshape(np.shape(y_validate)[0],1,-1) \n",
    "print(x_validate)\n",
    "print(np.shape(y_validate))\n",
    "\n",
    "# Test dataset.\n",
    "df = pd.read_csv(\"test.csv\", header=None)\n",
    "x_test = df.values[:, :-3]\n",
    "y_test = df.values[:, -3].astype(int)\n",
    "x_test = x_test.reshape(np.shape(y_test)[0],1,-1) \n",
    "y_test = y_test.reshape(np.shape(y_test)[0],1,-1)\n",
    "\n",
    "print('базы данных загружены и разделены')"
   ]
  },
  {
   "cell_type": "code",
   "execution_count": 14,
   "metadata": {},
   "outputs": [
    {
     "data": {
      "text/plain": [
       "'C:\\\\Users\\\\kamen\\\\OneDrive\\\\Рабочий стол\\\\code\\\\ECG_ML-master'"
      ]
     },
     "execution_count": 14,
     "metadata": {},
     "output_type": "execute_result"
    }
   ],
   "source": [
    "%pwd"
   ]
  },
  {
   "cell_type": "code",
   "execution_count": 2,
   "metadata": {},
   "outputs": [],
   "source": [
    "#early_stopping = tf.keras.callbacks.EarlyStopping(\n",
    "#    monitor='val_auc', \n",
    "#    verbose=1,\n",
    " #   patience=10,\n",
    " #   mode='max',\n",
    " #   restore_best_weights=True)\n",
    "#C:\\Users\\User\\Desktop\\all\\ECG.py.koen\\ECG_ML-master\n",
    "callbacks = [tf.keras.callbacks.EarlyStopping( monitor='accuracy', \n",
    "                                verbose=1,\n",
    "                                patience=50,\n",
    "                                mode='max',\n",
    "                    restore_best_weights=True),\n",
    "           tf.keras.callbacks.ModelCheckpoint('C:\\\\Users\\\\kamen\\\\OneDrive\\\\Рабочий стол\\\\code\\\\ECG_ML-master\\\\lstm_model_testing.hdf5', \n",
    "                            monitor='val_auc',             \n",
    "                            verbose=1, save_best_only=True,\n",
    "                            save_weights_only=False,         \n",
    "                            mode='auto')]\n",
    "#saveBestModel = keras.callbacks.ModelCheckpoint('/best_model.hdf5', monitor='val_acc', \n",
    "#                                                verbose=0, save_best_only=True, save_weights_only=False,\n",
    "#                                                mode='auto', period=1)"
   ]
  },
  {
   "cell_type": "code",
   "execution_count": 65,
   "metadata": {},
   "outputs": [
    {
     "name": "stdout",
     "output_type": "stream",
     "text": [
      "построение модели\n"
     ]
    }
   ],
   "source": [
    "from tensorflow import keras\n",
    "\n",
    "n_batch, n_timesteps, n_input_dim = 256, 1, 187\n",
    "#training_gen = data.ecg_generator(mitdb_signals, mitdb_beats, mitdb_labels, ma, bw, win_size=n_timesteps, batch_size=n_batch)\n",
    "\n",
    "# Create sequential model and add layers to it\n",
    "model = tf.keras.Sequential()\n",
    "\n",
    "model.add(layers.Bidirectional(layers.LSTM(256, return_sequences=True), input_shape=(n_timesteps, n_input_dim)))\n",
    "#model.add(layers.Bidirectional(layers.LSTM(64, return_sequences=True), input_shape=inp))\n",
    "model.add(layers.Bidirectional(layers.LSTM(64, return_sequences=True)))\n",
    "model.add(layers.Dense(1, activation='sigmoid'))\n",
    "\n",
    "# Compile model\n",
    "METRICS = [\n",
    "          keras.metrics.TruePositives(name='tp'),\n",
    "          keras.metrics.FalsePositives(name='fp'),\n",
    "          keras.metrics.TrueNegatives(name='tn'),\n",
    "          keras.metrics.FalseNegatives(name='fn'), \n",
    "          keras.metrics.BinaryAccuracy(name='accuracy'),\n",
    "          keras.metrics.Precision(name='precision'),\n",
    "          keras.metrics.Recall(name='recall'),\n",
    "          keras.metrics.AUC(name='auc'),\n",
    "    ]\n",
    "\n",
    "\n",
    "#model.compile(loss='binary_crossentropy', optimizer='adam', metrics=METRICS)\n",
    "model.compile(\n",
    "    optimizer=keras.optimizers.Adam(lr=1e-4),\n",
    "    loss=keras.losses.BinaryCrossentropy(),\n",
    "    metrics=METRICS)\n",
    "    \n",
    "#initial_weights = os.path.join(tempfile.mkdtemp(), 'initial_weights')  \n",
    "#model.save_weights(initial_weights)\n",
    "print('построение модели')"
   ]
  },
  {
   "cell_type": "code",
   "execution_count": 10,
   "metadata": {},
   "outputs": [
    {
     "name": "stdout",
     "output_type": "stream",
     "text": [
      "x [[-0.16  -0.16  -0.16  ... -0.335 -0.32   0.   ]\n",
      " [-0.375 -0.375 -0.375 ... -0.235 -0.245  0.   ]\n",
      " [ 0.22   0.22   0.22  ... -0.285 -0.28   0.   ]\n",
      " ...\n",
      " [-0.47  -0.47  -0.47  ... -1.825 -1.74  -1.28 ]\n",
      " [-0.095 -0.095 -0.095 ... -0.32  -0.285  0.   ]\n",
      " [ 0.21   0.21   0.21  ...  0.015  0.035  0.   ]]\n",
      "x (17, 650000)\n",
      "y (17, 1, 650000)\n",
      "val\n",
      "x [[-0.095 -0.095 -0.095 ... -0.11  -0.115  0.   ]]\n",
      "y (6, 1, 650000)\n",
      "(6, 1300160)\n",
      "test\n",
      "x [[0.065 0.065 0.065 ... 0.33  0.325 0.   ]]\n",
      "y (6, 1, 650000)\n"
     ]
    }
   ],
   "source": [
    "# Training dataset.\n",
    "df =pd.read_csv(\"train_testing.csv\", header=None)\n",
    "#rint(df.shape)\n",
    "x_train = df.values[:, : 650000]\n",
    "print('x',x_train)\n",
    "print('x',x_train.shape)\n",
    "y_train = df.values[:,650000: -160].astype(int)\n",
    "x_train = x_train.reshape(np.shape(x_train)[0],1,-1) \n",
    "y_train = y_train.reshape(np.shape(y_train)[0],1,-1)\n",
    "print('y',np.shape(y_train))\n",
    "\n",
    "\n",
    "print('val')\n",
    "# Validation dataset.\n",
    "df = pd.read_csv(\"validate_testing.csv\", header=None)\n",
    "x_validate = df.values[:,: 650000]\n",
    "y_validate = df.values[:,650000: -160].astype(int)\n",
    "x_validate = x_validate.reshape(np.shape(x_validate)[0],1,-1) \n",
    "y_validate = y_validate.reshape(np.shape(y_validate)[0],1,-1)\n",
    "print('x',x_validate[1])\n",
    "print('y',y_validate.shape)\n",
    "\n",
    "# Test dataset.\n",
    "df = pd.read_csv(\"test_testing.csv\", header=None)\n",
    "print(df.shape)\n",
    "x_test = df.values[:, :650000]\n",
    "y_test = df.values[:,650000:  -160].astype(int)\n",
    "x_test = x_test.reshape(np.shape(x_test)[0],1,-1) \n",
    "y_test = y_test.reshape(np.shape(y_test)[0],1,-1)\n",
    "\n",
    "print('test')\n",
    "print('x',x_test[1])\n",
    "print('y',y_test.shape)"
   ]
  },
  {
   "cell_type": "code",
   "execution_count": 11,
   "metadata": {},
   "outputs": [
    {
     "name": "stdout",
     "output_type": "stream",
     "text": [
      "построение модели\n"
     ]
    }
   ],
   "source": [
    "from tensorflow import keras\n",
    "\n",
    "n_batch, n_timesteps, n_input_dim = 1, 1, 1\n",
    "#training_gen = data.ecg_generator(mitdb_signals, mitdb_beats, mitdb_labels, ma, bw, win_size=n_timesteps, batch_size=n_batch)\n",
    "\n",
    "# Create sequential model and add layers to it\n",
    "model = tf.keras.Sequential()\n",
    "\n",
    "model.add(layers.Bidirectional(layers.LSTM(256, return_sequences=True), input_shape=(n_timesteps, n_input_dim)))\n",
    "#model.add(layers.Bidirectional(layers.LSTM(64, return_sequences=True), input_shape=inp))\n",
    "model.add(layers.Bidirectional(layers.LSTM(64, return_sequences=True)))\n",
    "model.add(layers.Dense(1, activation='sigmoid'))\n",
    "\n",
    "# Compile model\n",
    "METRICS = [\n",
    "          keras.metrics.TruePositives(name='tp'),\n",
    "          keras.metrics.FalsePositives(name='fp'),\n",
    "          keras.metrics.TrueNegatives(name='tn'),\n",
    "          keras.metrics.FalseNegatives(name='fn'), \n",
    "          keras.metrics.BinaryAccuracy(name='accuracy'),\n",
    "          keras.metrics.Precision(name='precision'),\n",
    "          keras.metrics.Recall(name='recall'),\n",
    "          keras.metrics.AUC(name='auc'),\n",
    "    ]\n",
    "\n",
    "\n",
    "#model.compile(loss='binary_crossentropy', optimizer='adam', metrics=METRICS)\n",
    "model.compile(\n",
    "    optimizer=keras.optimizers.Adam(lr=1e-3),\n",
    "    loss=keras.losses.BinaryCrossentropy(),\n",
    "    metrics=METRICS)\n",
    "    \n",
    "#initial_weights = os.path.join(tempfile.mkdtemp(), 'initial_weights')  \n",
    "#model.save_weights(initial_weights)\n",
    "print('построение модели')"
   ]
  },
  {
   "cell_type": "code",
   "execution_count": 13,
   "metadata": {},
   "outputs": [
    {
     "name": "stdout",
     "output_type": "stream",
     "text": [
      "Epoch 1/400\n",
      "WARNING:tensorflow:Model was constructed with shape (None, 1, 1) for input KerasTensor(type_spec=TensorSpec(shape=(None, 1, 1), dtype=tf.float32, name='bidirectional_4_input'), name='bidirectional_4_input', description=\"created by layer 'bidirectional_4_input'\"), but it was called on an input with incompatible shape (1, 1, 650000).\n"
     ]
    },
    {
     "ename": "ValueError",
     "evalue": "in user code:\n\n    C:\\Users\\kamen\\anaconda3\\lib\\site-packages\\tensorflow\\python\\keras\\engine\\training.py:805 train_function  *\n        return step_function(self, iterator)\n    C:\\Users\\kamen\\anaconda3\\lib\\site-packages\\tensorflow\\python\\keras\\engine\\training.py:795 step_function  **\n        outputs = model.distribute_strategy.run(run_step, args=(data,))\n    C:\\Users\\kamen\\anaconda3\\lib\\site-packages\\tensorflow\\python\\distribute\\distribute_lib.py:1259 run\n        return self._extended.call_for_each_replica(fn, args=args, kwargs=kwargs)\n    C:\\Users\\kamen\\anaconda3\\lib\\site-packages\\tensorflow\\python\\distribute\\distribute_lib.py:2730 call_for_each_replica\n        return self._call_for_each_replica(fn, args, kwargs)\n    C:\\Users\\kamen\\anaconda3\\lib\\site-packages\\tensorflow\\python\\distribute\\distribute_lib.py:3417 _call_for_each_replica\n        return fn(*args, **kwargs)\n    C:\\Users\\kamen\\anaconda3\\lib\\site-packages\\tensorflow\\python\\keras\\engine\\training.py:788 run_step  **\n        outputs = model.train_step(data)\n    C:\\Users\\kamen\\anaconda3\\lib\\site-packages\\tensorflow\\python\\keras\\engine\\training.py:754 train_step\n        y_pred = self(x, training=True)\n    C:\\Users\\kamen\\anaconda3\\lib\\site-packages\\tensorflow\\python\\keras\\engine\\base_layer.py:1012 __call__\n        outputs = call_fn(inputs, *args, **kwargs)\n    C:\\Users\\kamen\\anaconda3\\lib\\site-packages\\tensorflow\\python\\keras\\engine\\sequential.py:375 call\n        return super(Sequential, self).call(inputs, training=training, mask=mask)\n    C:\\Users\\kamen\\anaconda3\\lib\\site-packages\\tensorflow\\python\\keras\\engine\\functional.py:424 call\n        return self._run_internal_graph(\n    C:\\Users\\kamen\\anaconda3\\lib\\site-packages\\tensorflow\\python\\keras\\engine\\functional.py:560 _run_internal_graph\n        outputs = node.layer(*args, **kwargs)\n    C:\\Users\\kamen\\anaconda3\\lib\\site-packages\\tensorflow\\python\\keras\\layers\\wrappers.py:539 __call__\n        return super(Bidirectional, self).__call__(inputs, **kwargs)\n    C:\\Users\\kamen\\anaconda3\\lib\\site-packages\\tensorflow\\python\\keras\\engine\\base_layer.py:1012 __call__\n        outputs = call_fn(inputs, *args, **kwargs)\n    C:\\Users\\kamen\\anaconda3\\lib\\site-packages\\tensorflow\\python\\keras\\layers\\wrappers.py:652 call\n        y = self.forward_layer(forward_inputs,\n    C:\\Users\\kamen\\anaconda3\\lib\\site-packages\\tensorflow\\python\\keras\\layers\\recurrent.py:660 __call__\n        return super(RNN, self).__call__(inputs, **kwargs)\n    C:\\Users\\kamen\\anaconda3\\lib\\site-packages\\tensorflow\\python\\keras\\engine\\base_layer.py:998 __call__\n        input_spec.assert_input_compatibility(self.input_spec, inputs, self.name)\n    C:\\Users\\kamen\\anaconda3\\lib\\site-packages\\tensorflow\\python\\keras\\engine\\input_spec.py:271 assert_input_compatibility\n        raise ValueError('Input ' + str(input_index) +\n\n    ValueError: Input 0 is incompatible with layer forward_lstm_4: expected shape=(None, None, 1), found shape=(1, 1, 650000)\n",
     "output_type": "error",
     "traceback": [
      "\u001b[1;31m---------------------------------------------------------------------------\u001b[0m",
      "\u001b[1;31mValueError\u001b[0m                                Traceback (most recent call last)",
      "\u001b[1;32m<ipython-input-13-60cedb77a698>\u001b[0m in \u001b[0;36m<module>\u001b[1;34m\u001b[0m\n\u001b[1;32m----> 1\u001b[1;33m hist = model.fit(x_train,\n\u001b[0m\u001b[0;32m      2\u001b[0m           \u001b[0my_train\u001b[0m\u001b[1;33m,\u001b[0m\u001b[1;33m\u001b[0m\u001b[1;33m\u001b[0m\u001b[0m\n\u001b[0;32m      3\u001b[0m           \u001b[0mbatch_size\u001b[0m\u001b[1;33m=\u001b[0m\u001b[0mn_batch\u001b[0m\u001b[1;33m,\u001b[0m\u001b[1;33m\u001b[0m\u001b[1;33m\u001b[0m\u001b[0m\n\u001b[0;32m      4\u001b[0m           \u001b[0msteps_per_epoch\u001b[0m\u001b[1;33m=\u001b[0m\u001b[1;36m1000\u001b[0m\u001b[1;33m,\u001b[0m\u001b[1;33m\u001b[0m\u001b[1;33m\u001b[0m\u001b[0m\n\u001b[0;32m      5\u001b[0m           \u001b[0mepochs\u001b[0m\u001b[1;33m=\u001b[0m\u001b[1;36m400\u001b[0m\u001b[1;33m,\u001b[0m\u001b[1;33m\u001b[0m\u001b[1;33m\u001b[0m\u001b[0m\n",
      "\u001b[1;32m~\\anaconda3\\lib\\site-packages\\tensorflow\\python\\keras\\engine\\training.py\u001b[0m in \u001b[0;36mfit\u001b[1;34m(self, x, y, batch_size, epochs, verbose, callbacks, validation_split, validation_data, shuffle, class_weight, sample_weight, initial_epoch, steps_per_epoch, validation_steps, validation_batch_size, validation_freq, max_queue_size, workers, use_multiprocessing)\u001b[0m\n\u001b[0;32m   1098\u001b[0m                 _r=1):\n\u001b[0;32m   1099\u001b[0m               \u001b[0mcallbacks\u001b[0m\u001b[1;33m.\u001b[0m\u001b[0mon_train_batch_begin\u001b[0m\u001b[1;33m(\u001b[0m\u001b[0mstep\u001b[0m\u001b[1;33m)\u001b[0m\u001b[1;33m\u001b[0m\u001b[1;33m\u001b[0m\u001b[0m\n\u001b[1;32m-> 1100\u001b[1;33m               \u001b[0mtmp_logs\u001b[0m \u001b[1;33m=\u001b[0m \u001b[0mself\u001b[0m\u001b[1;33m.\u001b[0m\u001b[0mtrain_function\u001b[0m\u001b[1;33m(\u001b[0m\u001b[0miterator\u001b[0m\u001b[1;33m)\u001b[0m\u001b[1;33m\u001b[0m\u001b[1;33m\u001b[0m\u001b[0m\n\u001b[0m\u001b[0;32m   1101\u001b[0m               \u001b[1;32mif\u001b[0m \u001b[0mdata_handler\u001b[0m\u001b[1;33m.\u001b[0m\u001b[0mshould_sync\u001b[0m\u001b[1;33m:\u001b[0m\u001b[1;33m\u001b[0m\u001b[1;33m\u001b[0m\u001b[0m\n\u001b[0;32m   1102\u001b[0m                 \u001b[0mcontext\u001b[0m\u001b[1;33m.\u001b[0m\u001b[0masync_wait\u001b[0m\u001b[1;33m(\u001b[0m\u001b[1;33m)\u001b[0m\u001b[1;33m\u001b[0m\u001b[1;33m\u001b[0m\u001b[0m\n",
      "\u001b[1;32m~\\anaconda3\\lib\\site-packages\\tensorflow\\python\\eager\\def_function.py\u001b[0m in \u001b[0;36m__call__\u001b[1;34m(self, *args, **kwds)\u001b[0m\n\u001b[0;32m    826\u001b[0m     \u001b[0mtracing_count\u001b[0m \u001b[1;33m=\u001b[0m \u001b[0mself\u001b[0m\u001b[1;33m.\u001b[0m\u001b[0mexperimental_get_tracing_count\u001b[0m\u001b[1;33m(\u001b[0m\u001b[1;33m)\u001b[0m\u001b[1;33m\u001b[0m\u001b[1;33m\u001b[0m\u001b[0m\n\u001b[0;32m    827\u001b[0m     \u001b[1;32mwith\u001b[0m \u001b[0mtrace\u001b[0m\u001b[1;33m.\u001b[0m\u001b[0mTrace\u001b[0m\u001b[1;33m(\u001b[0m\u001b[0mself\u001b[0m\u001b[1;33m.\u001b[0m\u001b[0m_name\u001b[0m\u001b[1;33m)\u001b[0m \u001b[1;32mas\u001b[0m \u001b[0mtm\u001b[0m\u001b[1;33m:\u001b[0m\u001b[1;33m\u001b[0m\u001b[1;33m\u001b[0m\u001b[0m\n\u001b[1;32m--> 828\u001b[1;33m       \u001b[0mresult\u001b[0m \u001b[1;33m=\u001b[0m \u001b[0mself\u001b[0m\u001b[1;33m.\u001b[0m\u001b[0m_call\u001b[0m\u001b[1;33m(\u001b[0m\u001b[1;33m*\u001b[0m\u001b[0margs\u001b[0m\u001b[1;33m,\u001b[0m \u001b[1;33m**\u001b[0m\u001b[0mkwds\u001b[0m\u001b[1;33m)\u001b[0m\u001b[1;33m\u001b[0m\u001b[1;33m\u001b[0m\u001b[0m\n\u001b[0m\u001b[0;32m    829\u001b[0m       \u001b[0mcompiler\u001b[0m \u001b[1;33m=\u001b[0m \u001b[1;34m\"xla\"\u001b[0m \u001b[1;32mif\u001b[0m \u001b[0mself\u001b[0m\u001b[1;33m.\u001b[0m\u001b[0m_experimental_compile\u001b[0m \u001b[1;32melse\u001b[0m \u001b[1;34m\"nonXla\"\u001b[0m\u001b[1;33m\u001b[0m\u001b[1;33m\u001b[0m\u001b[0m\n\u001b[0;32m    830\u001b[0m       \u001b[0mnew_tracing_count\u001b[0m \u001b[1;33m=\u001b[0m \u001b[0mself\u001b[0m\u001b[1;33m.\u001b[0m\u001b[0mexperimental_get_tracing_count\u001b[0m\u001b[1;33m(\u001b[0m\u001b[1;33m)\u001b[0m\u001b[1;33m\u001b[0m\u001b[1;33m\u001b[0m\u001b[0m\n",
      "\u001b[1;32m~\\anaconda3\\lib\\site-packages\\tensorflow\\python\\eager\\def_function.py\u001b[0m in \u001b[0;36m_call\u001b[1;34m(self, *args, **kwds)\u001b[0m\n\u001b[0;32m    860\u001b[0m       \u001b[1;31m# In this case we have not created variables on the first call. So we can\u001b[0m\u001b[1;33m\u001b[0m\u001b[1;33m\u001b[0m\u001b[1;33m\u001b[0m\u001b[0m\n\u001b[0;32m    861\u001b[0m       \u001b[1;31m# run the first trace but we should fail if variables are created.\u001b[0m\u001b[1;33m\u001b[0m\u001b[1;33m\u001b[0m\u001b[1;33m\u001b[0m\u001b[0m\n\u001b[1;32m--> 862\u001b[1;33m       \u001b[0mresults\u001b[0m \u001b[1;33m=\u001b[0m \u001b[0mself\u001b[0m\u001b[1;33m.\u001b[0m\u001b[0m_stateful_fn\u001b[0m\u001b[1;33m(\u001b[0m\u001b[1;33m*\u001b[0m\u001b[0margs\u001b[0m\u001b[1;33m,\u001b[0m \u001b[1;33m**\u001b[0m\u001b[0mkwds\u001b[0m\u001b[1;33m)\u001b[0m\u001b[1;33m\u001b[0m\u001b[1;33m\u001b[0m\u001b[0m\n\u001b[0m\u001b[0;32m    863\u001b[0m       \u001b[1;32mif\u001b[0m \u001b[0mself\u001b[0m\u001b[1;33m.\u001b[0m\u001b[0m_created_variables\u001b[0m\u001b[1;33m:\u001b[0m\u001b[1;33m\u001b[0m\u001b[1;33m\u001b[0m\u001b[0m\n\u001b[0;32m    864\u001b[0m         raise ValueError(\"Creating variables on a non-first call to a function\"\n",
      "\u001b[1;32m~\\anaconda3\\lib\\site-packages\\tensorflow\\python\\eager\\function.py\u001b[0m in \u001b[0;36m__call__\u001b[1;34m(self, *args, **kwargs)\u001b[0m\n\u001b[0;32m   2939\u001b[0m     \u001b[1;32mwith\u001b[0m \u001b[0mself\u001b[0m\u001b[1;33m.\u001b[0m\u001b[0m_lock\u001b[0m\u001b[1;33m:\u001b[0m\u001b[1;33m\u001b[0m\u001b[1;33m\u001b[0m\u001b[0m\n\u001b[0;32m   2940\u001b[0m       (graph_function,\n\u001b[1;32m-> 2941\u001b[1;33m        filtered_flat_args) = self._maybe_define_function(args, kwargs)\n\u001b[0m\u001b[0;32m   2942\u001b[0m     return graph_function._call_flat(\n\u001b[0;32m   2943\u001b[0m         filtered_flat_args, captured_inputs=graph_function.captured_inputs)  # pylint: disable=protected-access\n",
      "\u001b[1;32m~\\anaconda3\\lib\\site-packages\\tensorflow\\python\\eager\\function.py\u001b[0m in \u001b[0;36m_maybe_define_function\u001b[1;34m(self, args, kwargs)\u001b[0m\n\u001b[0;32m   3355\u001b[0m               \u001b[0mself\u001b[0m\u001b[1;33m.\u001b[0m\u001b[0minput_signature\u001b[0m \u001b[1;32mis\u001b[0m \u001b[1;32mNone\u001b[0m \u001b[1;32mand\u001b[0m\u001b[1;33m\u001b[0m\u001b[1;33m\u001b[0m\u001b[0m\n\u001b[0;32m   3356\u001b[0m               call_context_key in self._function_cache.missed):\n\u001b[1;32m-> 3357\u001b[1;33m             return self._define_function_with_shape_relaxation(\n\u001b[0m\u001b[0;32m   3358\u001b[0m                 args, kwargs, flat_args, filtered_flat_args, cache_key_context)\n\u001b[0;32m   3359\u001b[0m \u001b[1;33m\u001b[0m\u001b[0m\n",
      "\u001b[1;32m~\\anaconda3\\lib\\site-packages\\tensorflow\\python\\eager\\function.py\u001b[0m in \u001b[0;36m_define_function_with_shape_relaxation\u001b[1;34m(self, args, kwargs, flat_args, filtered_flat_args, cache_key_context)\u001b[0m\n\u001b[0;32m   3277\u001b[0m           expand_composites=True)\n\u001b[0;32m   3278\u001b[0m \u001b[1;33m\u001b[0m\u001b[0m\n\u001b[1;32m-> 3279\u001b[1;33m     graph_function = self._create_graph_function(\n\u001b[0m\u001b[0;32m   3280\u001b[0m         args, kwargs, override_flat_arg_shapes=relaxed_arg_shapes)\n\u001b[0;32m   3281\u001b[0m     \u001b[0mself\u001b[0m\u001b[1;33m.\u001b[0m\u001b[0m_function_cache\u001b[0m\u001b[1;33m.\u001b[0m\u001b[0marg_relaxed\u001b[0m\u001b[1;33m[\u001b[0m\u001b[0mrank_only_cache_key\u001b[0m\u001b[1;33m]\u001b[0m \u001b[1;33m=\u001b[0m \u001b[0mgraph_function\u001b[0m\u001b[1;33m\u001b[0m\u001b[1;33m\u001b[0m\u001b[0m\n",
      "\u001b[1;32m~\\anaconda3\\lib\\site-packages\\tensorflow\\python\\eager\\function.py\u001b[0m in \u001b[0;36m_create_graph_function\u001b[1;34m(self, args, kwargs, override_flat_arg_shapes)\u001b[0m\n\u001b[0;32m   3194\u001b[0m     \u001b[0marg_names\u001b[0m \u001b[1;33m=\u001b[0m \u001b[0mbase_arg_names\u001b[0m \u001b[1;33m+\u001b[0m \u001b[0mmissing_arg_names\u001b[0m\u001b[1;33m\u001b[0m\u001b[1;33m\u001b[0m\u001b[0m\n\u001b[0;32m   3195\u001b[0m     graph_function = ConcreteFunction(\n\u001b[1;32m-> 3196\u001b[1;33m         func_graph_module.func_graph_from_py_func(\n\u001b[0m\u001b[0;32m   3197\u001b[0m             \u001b[0mself\u001b[0m\u001b[1;33m.\u001b[0m\u001b[0m_name\u001b[0m\u001b[1;33m,\u001b[0m\u001b[1;33m\u001b[0m\u001b[1;33m\u001b[0m\u001b[0m\n\u001b[0;32m   3198\u001b[0m             \u001b[0mself\u001b[0m\u001b[1;33m.\u001b[0m\u001b[0m_python_function\u001b[0m\u001b[1;33m,\u001b[0m\u001b[1;33m\u001b[0m\u001b[1;33m\u001b[0m\u001b[0m\n",
      "\u001b[1;32m~\\anaconda3\\lib\\site-packages\\tensorflow\\python\\framework\\func_graph.py\u001b[0m in \u001b[0;36mfunc_graph_from_py_func\u001b[1;34m(name, python_func, args, kwargs, signature, func_graph, autograph, autograph_options, add_control_dependencies, arg_names, op_return_value, collections, capture_by_value, override_flat_arg_shapes)\u001b[0m\n\u001b[0;32m    988\u001b[0m         \u001b[0m_\u001b[0m\u001b[1;33m,\u001b[0m \u001b[0moriginal_func\u001b[0m \u001b[1;33m=\u001b[0m \u001b[0mtf_decorator\u001b[0m\u001b[1;33m.\u001b[0m\u001b[0munwrap\u001b[0m\u001b[1;33m(\u001b[0m\u001b[0mpython_func\u001b[0m\u001b[1;33m)\u001b[0m\u001b[1;33m\u001b[0m\u001b[1;33m\u001b[0m\u001b[0m\n\u001b[0;32m    989\u001b[0m \u001b[1;33m\u001b[0m\u001b[0m\n\u001b[1;32m--> 990\u001b[1;33m       \u001b[0mfunc_outputs\u001b[0m \u001b[1;33m=\u001b[0m \u001b[0mpython_func\u001b[0m\u001b[1;33m(\u001b[0m\u001b[1;33m*\u001b[0m\u001b[0mfunc_args\u001b[0m\u001b[1;33m,\u001b[0m \u001b[1;33m**\u001b[0m\u001b[0mfunc_kwargs\u001b[0m\u001b[1;33m)\u001b[0m\u001b[1;33m\u001b[0m\u001b[1;33m\u001b[0m\u001b[0m\n\u001b[0m\u001b[0;32m    991\u001b[0m \u001b[1;33m\u001b[0m\u001b[0m\n\u001b[0;32m    992\u001b[0m       \u001b[1;31m# invariant: `func_outputs` contains only Tensors, CompositeTensors,\u001b[0m\u001b[1;33m\u001b[0m\u001b[1;33m\u001b[0m\u001b[1;33m\u001b[0m\u001b[0m\n",
      "\u001b[1;32m~\\anaconda3\\lib\\site-packages\\tensorflow\\python\\eager\\def_function.py\u001b[0m in \u001b[0;36mwrapped_fn\u001b[1;34m(*args, **kwds)\u001b[0m\n\u001b[0;32m    632\u001b[0m             \u001b[0mxla_context\u001b[0m\u001b[1;33m.\u001b[0m\u001b[0mExit\u001b[0m\u001b[1;33m(\u001b[0m\u001b[1;33m)\u001b[0m\u001b[1;33m\u001b[0m\u001b[1;33m\u001b[0m\u001b[0m\n\u001b[0;32m    633\u001b[0m         \u001b[1;32melse\u001b[0m\u001b[1;33m:\u001b[0m\u001b[1;33m\u001b[0m\u001b[1;33m\u001b[0m\u001b[0m\n\u001b[1;32m--> 634\u001b[1;33m           \u001b[0mout\u001b[0m \u001b[1;33m=\u001b[0m \u001b[0mweak_wrapped_fn\u001b[0m\u001b[1;33m(\u001b[0m\u001b[1;33m)\u001b[0m\u001b[1;33m.\u001b[0m\u001b[0m__wrapped__\u001b[0m\u001b[1;33m(\u001b[0m\u001b[1;33m*\u001b[0m\u001b[0margs\u001b[0m\u001b[1;33m,\u001b[0m \u001b[1;33m**\u001b[0m\u001b[0mkwds\u001b[0m\u001b[1;33m)\u001b[0m\u001b[1;33m\u001b[0m\u001b[1;33m\u001b[0m\u001b[0m\n\u001b[0m\u001b[0;32m    635\u001b[0m         \u001b[1;32mreturn\u001b[0m \u001b[0mout\u001b[0m\u001b[1;33m\u001b[0m\u001b[1;33m\u001b[0m\u001b[0m\n\u001b[0;32m    636\u001b[0m \u001b[1;33m\u001b[0m\u001b[0m\n",
      "\u001b[1;32m~\\anaconda3\\lib\\site-packages\\tensorflow\\python\\framework\\func_graph.py\u001b[0m in \u001b[0;36mwrapper\u001b[1;34m(*args, **kwargs)\u001b[0m\n\u001b[0;32m    975\u001b[0m           \u001b[1;32mexcept\u001b[0m \u001b[0mException\u001b[0m \u001b[1;32mas\u001b[0m \u001b[0me\u001b[0m\u001b[1;33m:\u001b[0m  \u001b[1;31m# pylint:disable=broad-except\u001b[0m\u001b[1;33m\u001b[0m\u001b[1;33m\u001b[0m\u001b[0m\n\u001b[0;32m    976\u001b[0m             \u001b[1;32mif\u001b[0m \u001b[0mhasattr\u001b[0m\u001b[1;33m(\u001b[0m\u001b[0me\u001b[0m\u001b[1;33m,\u001b[0m \u001b[1;34m\"ag_error_metadata\"\u001b[0m\u001b[1;33m)\u001b[0m\u001b[1;33m:\u001b[0m\u001b[1;33m\u001b[0m\u001b[1;33m\u001b[0m\u001b[0m\n\u001b[1;32m--> 977\u001b[1;33m               \u001b[1;32mraise\u001b[0m \u001b[0me\u001b[0m\u001b[1;33m.\u001b[0m\u001b[0mag_error_metadata\u001b[0m\u001b[1;33m.\u001b[0m\u001b[0mto_exception\u001b[0m\u001b[1;33m(\u001b[0m\u001b[0me\u001b[0m\u001b[1;33m)\u001b[0m\u001b[1;33m\u001b[0m\u001b[1;33m\u001b[0m\u001b[0m\n\u001b[0m\u001b[0;32m    978\u001b[0m             \u001b[1;32melse\u001b[0m\u001b[1;33m:\u001b[0m\u001b[1;33m\u001b[0m\u001b[1;33m\u001b[0m\u001b[0m\n\u001b[0;32m    979\u001b[0m               \u001b[1;32mraise\u001b[0m\u001b[1;33m\u001b[0m\u001b[1;33m\u001b[0m\u001b[0m\n",
      "\u001b[1;31mValueError\u001b[0m: in user code:\n\n    C:\\Users\\kamen\\anaconda3\\lib\\site-packages\\tensorflow\\python\\keras\\engine\\training.py:805 train_function  *\n        return step_function(self, iterator)\n    C:\\Users\\kamen\\anaconda3\\lib\\site-packages\\tensorflow\\python\\keras\\engine\\training.py:795 step_function  **\n        outputs = model.distribute_strategy.run(run_step, args=(data,))\n    C:\\Users\\kamen\\anaconda3\\lib\\site-packages\\tensorflow\\python\\distribute\\distribute_lib.py:1259 run\n        return self._extended.call_for_each_replica(fn, args=args, kwargs=kwargs)\n    C:\\Users\\kamen\\anaconda3\\lib\\site-packages\\tensorflow\\python\\distribute\\distribute_lib.py:2730 call_for_each_replica\n        return self._call_for_each_replica(fn, args, kwargs)\n    C:\\Users\\kamen\\anaconda3\\lib\\site-packages\\tensorflow\\python\\distribute\\distribute_lib.py:3417 _call_for_each_replica\n        return fn(*args, **kwargs)\n    C:\\Users\\kamen\\anaconda3\\lib\\site-packages\\tensorflow\\python\\keras\\engine\\training.py:788 run_step  **\n        outputs = model.train_step(data)\n    C:\\Users\\kamen\\anaconda3\\lib\\site-packages\\tensorflow\\python\\keras\\engine\\training.py:754 train_step\n        y_pred = self(x, training=True)\n    C:\\Users\\kamen\\anaconda3\\lib\\site-packages\\tensorflow\\python\\keras\\engine\\base_layer.py:1012 __call__\n        outputs = call_fn(inputs, *args, **kwargs)\n    C:\\Users\\kamen\\anaconda3\\lib\\site-packages\\tensorflow\\python\\keras\\engine\\sequential.py:375 call\n        return super(Sequential, self).call(inputs, training=training, mask=mask)\n    C:\\Users\\kamen\\anaconda3\\lib\\site-packages\\tensorflow\\python\\keras\\engine\\functional.py:424 call\n        return self._run_internal_graph(\n    C:\\Users\\kamen\\anaconda3\\lib\\site-packages\\tensorflow\\python\\keras\\engine\\functional.py:560 _run_internal_graph\n        outputs = node.layer(*args, **kwargs)\n    C:\\Users\\kamen\\anaconda3\\lib\\site-packages\\tensorflow\\python\\keras\\layers\\wrappers.py:539 __call__\n        return super(Bidirectional, self).__call__(inputs, **kwargs)\n    C:\\Users\\kamen\\anaconda3\\lib\\site-packages\\tensorflow\\python\\keras\\engine\\base_layer.py:1012 __call__\n        outputs = call_fn(inputs, *args, **kwargs)\n    C:\\Users\\kamen\\anaconda3\\lib\\site-packages\\tensorflow\\python\\keras\\layers\\wrappers.py:652 call\n        y = self.forward_layer(forward_inputs,\n    C:\\Users\\kamen\\anaconda3\\lib\\site-packages\\tensorflow\\python\\keras\\layers\\recurrent.py:660 __call__\n        return super(RNN, self).__call__(inputs, **kwargs)\n    C:\\Users\\kamen\\anaconda3\\lib\\site-packages\\tensorflow\\python\\keras\\engine\\base_layer.py:998 __call__\n        input_spec.assert_input_compatibility(self.input_spec, inputs, self.name)\n    C:\\Users\\kamen\\anaconda3\\lib\\site-packages\\tensorflow\\python\\keras\\engine\\input_spec.py:271 assert_input_compatibility\n        raise ValueError('Input ' + str(input_index) +\n\n    ValueError: Input 0 is incompatible with layer forward_lstm_4: expected shape=(None, None, 1), found shape=(1, 1, 650000)\n"
     ]
    }
   ],
   "source": [
    "hist = model.fit(x_train,\n",
    "          y_train,\n",
    "          batch_size=n_batch,\n",
    "          steps_per_epoch=1000,\n",
    "          epochs=400,\n",
    "          callbacks=callbacks ,         \n",
    "          validation_data=(x_validate, y_validate))\n",
    "print('модель обучена')"
   ]
  },
  {
   "cell_type": "code",
   "execution_count": 3,
   "metadata": {},
   "outputs": [
    {
     "ename": "NameError",
     "evalue": "name 'model' is not defined",
     "output_type": "error",
     "traceback": [
      "\u001b[1;31m---------------------------------------------------------------------------\u001b[0m",
      "\u001b[1;31mNameError\u001b[0m                                 Traceback (most recent call last)",
      "\u001b[1;32m<ipython-input-3-a7adb1028db3>\u001b[0m in \u001b[0;36m<module>\u001b[1;34m\u001b[0m\n\u001b[1;32m----> 1\u001b[1;33m history = model.fit(x_train[0],\n\u001b[0m\u001b[0;32m      2\u001b[0m           \u001b[0my_train\u001b[0m\u001b[1;33m[\u001b[0m\u001b[1;36m0\u001b[0m\u001b[1;33m]\u001b[0m\u001b[1;33m,\u001b[0m\u001b[1;33m\u001b[0m\u001b[1;33m\u001b[0m\u001b[0m\n\u001b[0;32m      3\u001b[0m           \u001b[0mbatch_size\u001b[0m\u001b[1;33m=\u001b[0m\u001b[0mn_batch\u001b[0m\u001b[1;33m,\u001b[0m\u001b[1;33m\u001b[0m\u001b[1;33m\u001b[0m\u001b[0m\n\u001b[0;32m      4\u001b[0m           \u001b[0msteps_per_epoch\u001b[0m\u001b[1;33m=\u001b[0m\u001b[1;36m1000\u001b[0m\u001b[1;33m,\u001b[0m\u001b[1;33m\u001b[0m\u001b[1;33m\u001b[0m\u001b[0m\n\u001b[0;32m      5\u001b[0m           \u001b[0mepochs\u001b[0m\u001b[1;33m=\u001b[0m\u001b[1;36m400\u001b[0m\u001b[1;33m,\u001b[0m\u001b[1;33m\u001b[0m\u001b[1;33m\u001b[0m\u001b[0m\n",
      "\u001b[1;31mNameError\u001b[0m: name 'model' is not defined"
     ]
    }
   ],
   "source": [
    "history = model.fit(x_train,\n",
    "          y_train,\n",
    "          batch_size=n_batch,\n",
    "          steps_per_epoch=1000,\n",
    "          epochs=400,\n",
    "          callbacks=callbacks ,         \n",
    "          validation_data=(x_validate, y_validate))\n",
    "print('модель обучена')\n"
   ]
  },
  {
   "cell_type": "code",
   "execution_count": 68,
   "metadata": {},
   "outputs": [
    {
     "data": {
      "image/png": "[encoded data removed]",
      "text/plain": [
       "<Figure size 432x288 with 1 Axes>"
      ]
     },
     "metadata": {
      "needs_background": "light"
     },
     "output_type": "display_data"
    }
   ],
   "source": [
    "from matplotlib import pyplot\n",
    "pyplot.plot(history.history['loss'], label='train')\n",
    "pyplot.plot(history.history['val_loss'], label='test')\n",
    "pyplot.legend()\n",
    "pyplot.show()"
   ]
  },
  {
   "cell_type": "code",
   "execution_count": 67,
   "metadata": {},
   "outputs": [
    {
     "name": "stdout",
     "output_type": "stream",
     "text": [
      "167/167 [==============================] - 1s 6ms/step - loss: 0.0894 - tp: 5116.0000 - fp: 148.0000 - tn: 15906.0000 - fn: 167.0000 - accuracy: 0.9852 - precision: 0.9719 - recall: 0.9684 - auc: 0.9902\n",
      "Specificity :  99.078111%\n",
      "\n",
      "Sensitivity :  96.838915%\n",
      "\n",
      "Accuracy    : 98.523688%\n",
      "\n"
     ]
    }
   ],
   "source": [
    "score = model.evaluate(x_test, y_test, batch_size=128)\n",
    "print('Specificity :  {0:f}%\\n'.format(( score[3]/(score[3]+score[2]))*100))\n",
    "print('Sensitivity :  {0:f}%\\n'.format(score[7]*100))\n",
    "print('Accuracy    : {0:f}%\\n'.format(score[5]*100))\n",
    "#print('test loss, tn, tp, fn, fp, prec, sen, test acc:', results[0])"
   ]
  },
  {
   "cell_type": "code",
   "execution_count": 73,
   "metadata": {},
   "outputs": [],
   "source": [
    "\n",
    "from tensorflow.keras.models import load_model\n",
    "loaded_model=load_model('lstm_model.hdf5')\n",
    "x_test_all = []\n",
    "for i in range(21337):\n",
    "    x_test_all = np.append(x_test_all, x_test[i])\n",
    "   "
   ]
  },
  {
   "cell_type": "code",
   "execution_count": 76,
   "metadata": {},
   "outputs": [
    {
     "name": "stdout",
     "output_type": "stream",
     "text": [
      "(3990019,)\n"
     ]
    }
   ],
   "source": [
    "print(x_test_all.shape) "
   ]
  },
  {
   "cell_type": "code",
   "execution_count": 83,
   "metadata": {},
   "outputs": [
    {
     "name": "stdout",
     "output_type": "stream",
     "text": [
      "[[[False]]\n",
      "\n",
      " [[ True]]\n",
      "\n",
      " [[False]]\n",
      "\n",
      " ...\n",
      "\n",
      " [[ True]]\n",
      "\n",
      " [[ True]]\n",
      "\n",
      " [[ True]]]\n",
      "[[[0]]\n",
      "\n",
      " [[1]]\n",
      "\n",
      " [[0]]\n",
      "\n",
      " ...\n",
      "\n",
      " [[1]]\n",
      "\n",
      " [[0]]\n",
      "\n",
      " [[0]]]\n"
     ]
    }
   ],
   "source": [
    "y_pred = (loaded_model.predict(x_test) >= 0.15)\n",
    "print(y_pred)\n",
    "print(y_test)"
   ]
  },
  {
   "cell_type": "code",
   "execution_count": null,
   "metadata": {},
   "outputs": [],
   "source": [
    "## SAVE MODEL ##\n",
    "# serialize model to JSON\n",
    "model_json = model.to_json()\n",
    "with open(\"lstm_model.json\", \"w\") as json_file:\n",
    "    json_file.write(model_json)\n",
    "# serialize weights to HDF5\n",
    "model.save_weights(\"lstm_model.h5\")\n",
    "print(\"Saved model to disk\")"
   ]
  },
  {
   "cell_type": "code",
   "execution_count": 89,
   "metadata": {},
   "outputs": [
    {
     "name": "stdout",
     "output_type": "stream",
     "text": [
      "<class 'numpy.ndarray'>\n",
      "<class 'numpy.ndarray'>\n"
     ]
    },
    {
     "ename": "ValueError",
     "evalue": "unknown is not supported",
     "output_type": "error",
     "traceback": [
      "\u001b[1;31m---------------------------------------------------------------------------\u001b[0m",
      "\u001b[1;31mValueError\u001b[0m                                Traceback (most recent call last)",
      "\u001b[1;32m<ipython-input-89-a436b2fbed80>\u001b[0m in \u001b[0;36m<module>\u001b[1;34m\u001b[0m\n\u001b[0;32m      8\u001b[0m \u001b[0mprint\u001b[0m\u001b[1;33m(\u001b[0m\u001b[0mtype\u001b[0m\u001b[1;33m(\u001b[0m\u001b[0my_test\u001b[0m\u001b[1;33m)\u001b[0m\u001b[1;33m)\u001b[0m\u001b[1;33m\u001b[0m\u001b[1;33m\u001b[0m\u001b[0m\n\u001b[0;32m      9\u001b[0m \u001b[1;33m\u001b[0m\u001b[0m\n\u001b[1;32m---> 10\u001b[1;33m \u001b[0mconf_mat\u001b[0m \u001b[1;33m=\u001b[0m \u001b[0mconfusion_matrix\u001b[0m\u001b[1;33m(\u001b[0m\u001b[0my_test\u001b[0m\u001b[1;33m,\u001b[0m \u001b[0my_pred\u001b[0m\u001b[1;33m)\u001b[0m\u001b[1;33m\u001b[0m\u001b[1;33m\u001b[0m\u001b[0m\n\u001b[0m\u001b[0;32m     11\u001b[0m \u001b[1;31m#sensitivity = conf_mat[0, 0]/(conf_mat[0, 0] + conf_mat[1, 0])\u001b[0m\u001b[1;33m\u001b[0m\u001b[1;33m\u001b[0m\u001b[1;33m\u001b[0m\u001b[0m\n\u001b[0;32m     12\u001b[0m \u001b[1;31m#specificity = conf_mat[1, 1]/(conf_mat[1, 1] + conf_mat[0, 1])\u001b[0m\u001b[1;33m\u001b[0m\u001b[1;33m\u001b[0m\u001b[1;33m\u001b[0m\u001b[0m\n",
      "\u001b[1;32m~\\anaconda3\\lib\\site-packages\\sklearn\\utils\\validation.py\u001b[0m in \u001b[0;36minner_f\u001b[1;34m(*args, **kwargs)\u001b[0m\n\u001b[0;32m     71\u001b[0m                           FutureWarning)\n\u001b[0;32m     72\u001b[0m         \u001b[0mkwargs\u001b[0m\u001b[1;33m.\u001b[0m\u001b[0mupdate\u001b[0m\u001b[1;33m(\u001b[0m\u001b[1;33m{\u001b[0m\u001b[0mk\u001b[0m\u001b[1;33m:\u001b[0m \u001b[0marg\u001b[0m \u001b[1;32mfor\u001b[0m \u001b[0mk\u001b[0m\u001b[1;33m,\u001b[0m \u001b[0marg\u001b[0m \u001b[1;32min\u001b[0m \u001b[0mzip\u001b[0m\u001b[1;33m(\u001b[0m\u001b[0msig\u001b[0m\u001b[1;33m.\u001b[0m\u001b[0mparameters\u001b[0m\u001b[1;33m,\u001b[0m \u001b[0margs\u001b[0m\u001b[1;33m)\u001b[0m\u001b[1;33m}\u001b[0m\u001b[1;33m)\u001b[0m\u001b[1;33m\u001b[0m\u001b[1;33m\u001b[0m\u001b[0m\n\u001b[1;32m---> 73\u001b[1;33m         \u001b[1;32mreturn\u001b[0m \u001b[0mf\u001b[0m\u001b[1;33m(\u001b[0m\u001b[1;33m**\u001b[0m\u001b[0mkwargs\u001b[0m\u001b[1;33m)\u001b[0m\u001b[1;33m\u001b[0m\u001b[1;33m\u001b[0m\u001b[0m\n\u001b[0m\u001b[0;32m     74\u001b[0m     \u001b[1;32mreturn\u001b[0m \u001b[0minner_f\u001b[0m\u001b[1;33m\u001b[0m\u001b[1;33m\u001b[0m\u001b[0m\n\u001b[0;32m     75\u001b[0m \u001b[1;33m\u001b[0m\u001b[0m\n",
      "\u001b[1;32m~\\anaconda3\\lib\\site-packages\\sklearn\\metrics\\_classification.py\u001b[0m in \u001b[0;36mconfusion_matrix\u001b[1;34m(y_true, y_pred, labels, sample_weight, normalize)\u001b[0m\n\u001b[0;32m    274\u001b[0m \u001b[1;33m\u001b[0m\u001b[0m\n\u001b[0;32m    275\u001b[0m     \"\"\"\n\u001b[1;32m--> 276\u001b[1;33m     \u001b[0my_type\u001b[0m\u001b[1;33m,\u001b[0m \u001b[0my_true\u001b[0m\u001b[1;33m,\u001b[0m \u001b[0my_pred\u001b[0m \u001b[1;33m=\u001b[0m \u001b[0m_check_targets\u001b[0m\u001b[1;33m(\u001b[0m\u001b[0my_true\u001b[0m\u001b[1;33m,\u001b[0m \u001b[0my_pred\u001b[0m\u001b[1;33m)\u001b[0m\u001b[1;33m\u001b[0m\u001b[1;33m\u001b[0m\u001b[0m\n\u001b[0m\u001b[0;32m    277\u001b[0m     \u001b[1;32mif\u001b[0m \u001b[0my_type\u001b[0m \u001b[1;32mnot\u001b[0m \u001b[1;32min\u001b[0m \u001b[1;33m(\u001b[0m\u001b[1;34m\"binary\"\u001b[0m\u001b[1;33m,\u001b[0m \u001b[1;34m\"multiclass\"\u001b[0m\u001b[1;33m)\u001b[0m\u001b[1;33m:\u001b[0m\u001b[1;33m\u001b[0m\u001b[1;33m\u001b[0m\u001b[0m\n\u001b[0;32m    278\u001b[0m         \u001b[1;32mraise\u001b[0m \u001b[0mValueError\u001b[0m\u001b[1;33m(\u001b[0m\u001b[1;34m\"%s is not supported\"\u001b[0m \u001b[1;33m%\u001b[0m \u001b[0my_type\u001b[0m\u001b[1;33m)\u001b[0m\u001b[1;33m\u001b[0m\u001b[1;33m\u001b[0m\u001b[0m\n",
      "\u001b[1;32m~\\anaconda3\\lib\\site-packages\\sklearn\\metrics\\_classification.py\u001b[0m in \u001b[0;36m_check_targets\u001b[1;34m(y_true, y_pred)\u001b[0m\n\u001b[0;32m     96\u001b[0m     \u001b[1;31m# No metrics support \"multiclass-multioutput\" format\u001b[0m\u001b[1;33m\u001b[0m\u001b[1;33m\u001b[0m\u001b[1;33m\u001b[0m\u001b[0m\n\u001b[0;32m     97\u001b[0m     \u001b[1;32mif\u001b[0m \u001b[1;33m(\u001b[0m\u001b[0my_type\u001b[0m \u001b[1;32mnot\u001b[0m \u001b[1;32min\u001b[0m \u001b[1;33m[\u001b[0m\u001b[1;34m\"binary\"\u001b[0m\u001b[1;33m,\u001b[0m \u001b[1;34m\"multiclass\"\u001b[0m\u001b[1;33m,\u001b[0m \u001b[1;34m\"multilabel-indicator\"\u001b[0m\u001b[1;33m]\u001b[0m\u001b[1;33m)\u001b[0m\u001b[1;33m:\u001b[0m\u001b[1;33m\u001b[0m\u001b[1;33m\u001b[0m\u001b[0m\n\u001b[1;32m---> 98\u001b[1;33m         \u001b[1;32mraise\u001b[0m \u001b[0mValueError\u001b[0m\u001b[1;33m(\u001b[0m\u001b[1;34m\"{0} is not supported\"\u001b[0m\u001b[1;33m.\u001b[0m\u001b[0mformat\u001b[0m\u001b[1;33m(\u001b[0m\u001b[0my_type\u001b[0m\u001b[1;33m)\u001b[0m\u001b[1;33m)\u001b[0m\u001b[1;33m\u001b[0m\u001b[1;33m\u001b[0m\u001b[0m\n\u001b[0m\u001b[0;32m     99\u001b[0m \u001b[1;33m\u001b[0m\u001b[0m\n\u001b[0;32m    100\u001b[0m     \u001b[1;32mif\u001b[0m \u001b[0my_type\u001b[0m \u001b[1;32min\u001b[0m \u001b[1;33m[\u001b[0m\u001b[1;34m\"binary\"\u001b[0m\u001b[1;33m,\u001b[0m \u001b[1;34m\"multiclass\"\u001b[0m\u001b[1;33m]\u001b[0m\u001b[1;33m:\u001b[0m\u001b[1;33m\u001b[0m\u001b[1;33m\u001b[0m\u001b[0m\n",
      "\u001b[1;31mValueError\u001b[0m: unknown is not supported"
     ]
    }
   ],
   "source": [
    "from sklearn.metrics import confusion_matrix\n",
    "y_pred = (loaded_model.predict(x_test) >= 0.15).astype(int)\n",
    "#tn, fp, fn, tp = confusion_matrix(y_test, y_pred.astype(int)).ravel() \n",
    "#predictions = model.predict(x_test[:3])\n",
    "\n",
    "#while y_predicted\n",
    "print(type(y_pred))\n",
    "print(type(y_test))\n",
    "\n",
    "conf_mat = confusion_matrix(y_test, y_pred)\n",
    "#sensitivity = conf_mat[0, 0]/(conf_mat[0, 0] + conf_mat[1, 0])\n",
    "#specificity = conf_mat[1, 1]/(conf_mat[1, 1] + conf_mat[0, 1])\n"
   ]
  },
  {
   "cell_type": "code",
   "execution_count": 43,
   "metadata": {},
   "outputs": [
    {
     "name": "stdout",
     "output_type": "stream",
     "text": [
      "Model: \"sequential_11\"\n",
      "_________________________________________________________________\n",
      "Layer (type)                 Output Shape              Param #   \n",
      "=================================================================\n",
      "bidirectional_17 (Bidirectio (None, 1, 128)            129024    \n",
      "_________________________________________________________________\n",
      "bidirectional_18 (Bidirectio (None, 1, 128)            98816     \n",
      "_________________________________________________________________\n",
      "dense_6 (Dense)              (None, 1, 1)              129       \n",
      "=================================================================\n",
      "Total params: 227,969\n",
      "Trainable params: 227,969\n",
      "Non-trainable params: 0\n",
      "_________________________________________________________________\n"
     ]
    }
   ],
   "source": [
    "# Summary of the model\n",
    "model.summary()        "
   ]
  },
  {
   "cell_type": "code",
   "execution_count": 35,
   "metadata": {},
   "outputs": [],
   "source": [
    "def rnn_model(max_len):\n",
    "    opt = Adadelta()\n",
    "    model = Sequential()\n",
    "\n",
    "    model.add(Bidirectional(LSTM(32,\n",
    "                             return_sequences = True),\n",
    "                             input_shape=(max_len, 1)))\n",
    "    model.add(Bidirectional(LSTM(32,return_sequences = False)))\n",
    "    model.add(Dense(64,activation='relu'))\n",
    "    model.add(Dense(32,activation='relu'))\n",
    "    model.add(Dense(2,activation='softmax'))\n",
    "\n",
    "    model.summary()\n",
    "    model.compile(optimizer=opt, \n",
    "                    loss='categorical_crossentropy',\n",
    "                    metrics = ['accuracy'])\n",
    "\n",
    "    return model"
   ]
  }
 ],
 "metadata": {
  "kernelspec": {
   "display_name": "Python 3",
   "language": "python",
   "name": "python3"
  },
  "language_info": {
   "codemirror_mode": {
    "name": "ipython",
    "version": 3
   },
   "file_extension": ".py",
   "mimetype": "text/x-python",
   "name": "python",
   "nbconvert_exporter": "python",
   "pygments_lexer": "ipython3",
   "version": "3.8.3"
  }
 },
 "nbformat": 4,
 "nbformat_minor": 4
}
