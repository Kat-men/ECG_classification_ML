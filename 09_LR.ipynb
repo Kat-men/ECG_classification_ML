{
 "cells": [
  {
   "cell_type": "code",
   "execution_count": null,
   "metadata": {},
   "outputs": [],
   "source": [
    "# cross-validation for logistic regression\n",
    "clf_lr = LogisticRegression(solver='liblinear',class_weight='balanced',max_iter=1000)\n",
    "scores_lr = cross_val_score(clf_lr, x_train, y_train, cv=10, scoring='accuracy')\n",
    "print(scores_lr.mean())"
   ]
  }
 ],
 "metadata": {
  "kernelspec": {
   "display_name": "Python 3",
   "language": "python",
   "name": "python3"
  },
  "language_info": {
   "codemirror_mode": {
    "name": "ipython",
    "version": 3
   },
   "file_extension": ".py",
   "mimetype": "text/x-python",
   "name": "python",
   "nbconvert_exporter": "python",
   "pygments_lexer": "ipython3",
   "version": "3.8.3"
  }
 },
 "nbformat": 4,
 "nbformat_minor": 4
}
