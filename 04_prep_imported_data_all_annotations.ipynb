{
 "cells": [
  {
   "cell_type": "markdown",
   "metadata": {},
   "source": [
    "Cчитывает все CSV-файлы, созданные \n",
    " «02_import_mitdb_data», и объединяет \n",
    "их в 3 новых CSV-файла, которые можно \n",
    "использовать для обучения модели. \n",
    "В частности, делается следующее:\n",
    "1) Прочтите все файлы CSV «02_import_mitdb_data».\n",
    "\n",
    "2) Перемешать все записи в случайном порядке.\n",
    "\n",
    "3) Сохранить 70% записей в тренировочном CSV-файле.\n",
    "\n",
    "4) Сохранить 15% записей в проверочном CSV-файле.\n",
    "\n",
    "5) Сохранить 15% записей в тестовом CSV-файле."
   ]
  },
  {
   "cell_type": "markdown",
   "metadata": {},
   "source": [
    "### Загрузка библиотек"
   ]
  },
  {
   "cell_type": "code",
   "execution_count": 3,
   "metadata": {},
   "outputs": [],
   "source": [
    "from glob import glob\n",
    "import numpy as np"
   ]
  },
  {
   "cell_type": "markdown",
   "metadata": {},
   "source": [
    "### Загрузка данных\n",
    "Запись всех файлов CSV в память"
   ]
  },
  {
   "cell_type": "code",
   "execution_count": 10,
   "metadata": {},
   "outputs": [],
   "source": [
    "def load_data(version):\n",
    "    # В зависимости от версии преобработки, задается форма массива\n",
    "    if (version == '1') or (version == '5')or (version == '8'):\n",
    "        alldata = np.empty(shape=[0, 543])\n",
    "        \n",
    "    elif (version == '6') or (version == '7'):\n",
    "        alldata = np.empty(shape=[0, 195])\n",
    "        \n",
    "    else:\n",
    "        alldata = np.empty(shape=[0, 190])\n",
    "        \n",
    "    \n",
    "    paths = glob('data_ecg\\\\*_v'+version+'.csv')\n",
    "\n",
    "    for path in paths:\n",
    "        print('Loading ', path)\n",
    "        csvrows = np.loadtxt(path, delimiter=',')\n",
    "        alldata = np.append(alldata, csvrows, axis=0)\n",
    "\n",
    "    return alldata"
   ]
  },
  {
   "cell_type": "code",
   "execution_count": 16,
   "metadata": {
    "scrolled": true
   },
   "outputs": [
    {
     "name": "stdout",
     "output_type": "stream",
     "text": [
      "true\n",
      "Loading  data_ecg\\100_MLII_v8.csv\n",
      "Loading  data_ecg\\100_V5_v8.csv\n",
      "Loading  data_ecg\\101_MLII_v8.csv\n",
      "Loading  data_ecg\\101_V1_v8.csv\n",
      "Loading  data_ecg\\102_V2_v8.csv\n",
      "Loading  data_ecg\\102_V5_v8.csv\n",
      "Loading  data_ecg\\103_MLII_v8.csv\n",
      "Loading  data_ecg\\103_V2_v8.csv\n",
      "Loading  data_ecg\\104_V2_v8.csv\n",
      "Loading  data_ecg\\104_V5_v8.csv\n",
      "Loading  data_ecg\\105_MLII_v8.csv\n",
      "Loading  data_ecg\\105_V1_v8.csv\n",
      "Loading  data_ecg\\106_MLII_v8.csv\n",
      "Loading  data_ecg\\106_V1_v8.csv\n",
      "Loading  data_ecg\\107_MLII_v8.csv\n",
      "Loading  data_ecg\\107_V1_v8.csv\n",
      "Loading  data_ecg\\108_MLII_v8.csv\n",
      "Loading  data_ecg\\108_V1_v8.csv\n",
      "Loading  data_ecg\\109_MLII_v8.csv\n",
      "Loading  data_ecg\\109_V1_v8.csv\n",
      "Loading  data_ecg\\111_MLII_v8.csv\n",
      "Loading  data_ecg\\111_V1_v8.csv\n",
      "Loading  data_ecg\\112_MLII_v8.csv\n",
      "Loading  data_ecg\\112_V1_v8.csv\n",
      "Loading  data_ecg\\113_MLII_v8.csv\n",
      "Loading  data_ecg\\113_V1_v8.csv\n",
      "Loading  data_ecg\\114_MLII_v8.csv\n",
      "Loading  data_ecg\\114_V5_v8.csv\n",
      "Loading  data_ecg\\115_MLII_v8.csv\n",
      "Loading  data_ecg\\115_V1_v8.csv\n",
      "Loading  data_ecg\\116_MLII_v8.csv\n",
      "Loading  data_ecg\\116_V1_v8.csv\n",
      "Loading  data_ecg\\117_MLII_v8.csv\n",
      "Loading  data_ecg\\117_V2_v8.csv\n",
      "Loading  data_ecg\\118_MLII_v8.csv\n",
      "Loading  data_ecg\\118_V1_v8.csv\n",
      "Loading  data_ecg\\119_MLII_v8.csv\n",
      "Loading  data_ecg\\119_V1_v8.csv\n",
      "Loading  data_ecg\\121_MLII_v8.csv\n",
      "Loading  data_ecg\\121_V1_v8.csv\n",
      "Loading  data_ecg\\122_MLII_v8.csv\n",
      "Loading  data_ecg\\122_V1_v8.csv\n",
      "Loading  data_ecg\\123_MLII_v8.csv\n",
      "Loading  data_ecg\\123_V5_v8.csv\n",
      "Loading  data_ecg\\124_MLII_v8.csv\n",
      "Loading  data_ecg\\124_V4_v8.csv\n",
      "Loading  data_ecg\\200_MLII_v8.csv\n",
      "Loading  data_ecg\\200_V1_v8.csv\n",
      "Loading  data_ecg\\201_MLII_v8.csv\n",
      "Loading  data_ecg\\201_V1_v8.csv\n",
      "Loading  data_ecg\\202_MLII_v8.csv\n",
      "Loading  data_ecg\\202_V1_v8.csv\n",
      "Loading  data_ecg\\203_MLII_v8.csv\n",
      "Loading  data_ecg\\203_V1_v8.csv\n",
      "Loading  data_ecg\\205_MLII_v8.csv\n",
      "Loading  data_ecg\\205_V1_v8.csv\n",
      "Loading  data_ecg\\207_MLII_v8.csv\n",
      "Loading  data_ecg\\207_V1_v8.csv\n",
      "Loading  data_ecg\\208_MLII_v8.csv\n",
      "Loading  data_ecg\\208_V1_v8.csv\n",
      "Loading  data_ecg\\209_MLII_v8.csv\n",
      "Loading  data_ecg\\209_V1_v8.csv\n",
      "Loading  data_ecg\\210_MLII_v8.csv\n",
      "Loading  data_ecg\\210_V1_v8.csv\n",
      "Loading  data_ecg\\212_MLII_v8.csv\n",
      "Loading  data_ecg\\212_V1_v8.csv\n",
      "Loading  data_ecg\\213_MLII_v8.csv\n",
      "Loading  data_ecg\\213_V1_v8.csv\n",
      "Loading  data_ecg\\214_MLII_v8.csv\n",
      "Loading  data_ecg\\214_V1_v8.csv\n",
      "Loading  data_ecg\\215_MLII_v8.csv\n",
      "Loading  data_ecg\\215_V1_v8.csv\n",
      "Loading  data_ecg\\217_MLII_v8.csv\n",
      "Loading  data_ecg\\217_V1_v8.csv\n",
      "Loading  data_ecg\\219_MLII_v8.csv\n",
      "Loading  data_ecg\\219_V1_v8.csv\n",
      "Loading  data_ecg\\220_MLII_v8.csv\n",
      "Loading  data_ecg\\220_V1_v8.csv\n",
      "Loading  data_ecg\\221_MLII_v8.csv\n",
      "Loading  data_ecg\\221_V1_v8.csv\n",
      "Loading  data_ecg\\222_MLII_v8.csv\n",
      "Loading  data_ecg\\222_V1_v8.csv\n",
      "Loading  data_ecg\\223_MLII_v8.csv\n",
      "Loading  data_ecg\\223_V1_v8.csv\n",
      "Loading  data_ecg\\228_MLII_v8.csv\n",
      "Loading  data_ecg\\228_V1_v8.csv\n",
      "Loading  data_ecg\\230_MLII_v8.csv\n",
      "Loading  data_ecg\\230_V1_v8.csv\n",
      "Loading  data_ecg\\231_MLII_v8.csv\n",
      "Loading  data_ecg\\231_V1_v8.csv\n",
      "Loading  data_ecg\\232_MLII_v8.csv\n",
      "Loading  data_ecg\\232_V1_v8.csv\n"
     ]
    }
   ],
   "source": [
    "\n",
    "data_v0 = load_data('0')\n",
    "data_v1 = load_data('1')\n",
    "data_v2 = load_data('2')\n",
    "data_v3 = load_data('3')\n",
    "data_v4 = load_data('4')\n",
    "data_v5 = load_data('5')\n",
    "data_v6 = load_data('6')\n",
    "data_v7 = load_data('7')\n",
    "data_v8 = load_data('8')"
   ]
  },
  {
   "cell_type": "markdown",
   "metadata": {},
   "source": [
    "### Разбиение данных на датасеты\n",
    "Все записи перемешиваются в случайном порядке, а затем разделяются на группы обучения, проверки и тестирования."
   ]
  },
  {
   "cell_type": "code",
   "execution_count": 1,
   "metadata": {},
   "outputs": [],
   "source": [
    "def mix_and_sep(data, version):\n",
    "    # Randomly mix rows\n",
    "    np.random.shuffle(data)\n",
    "    totrows = len(data)\n",
    "    train = int((totrows * 5 / 7) + 0.5) # 70% \n",
    "    test = int((totrows * 1 / 7) + 0.5) # 15%\n",
    "    validate = totrows - train - test # 15%\n",
    "    mark1 = train\n",
    "    mark2 = mark1 + test\n",
    "    \n",
    "    # Данные сохраняются в 3 отдельных файлах CSV: \n",
    "    # обучение, проверка, тестирование.\n",
    "    with open('train_v'+version+'.csv', \"wb\") as fin:\n",
    "        np.savetxt(fin, data[:mark1], delimiter=\",\", fmt='%f')\n",
    "        \n",
    "    with open('test_v'+version+'.csv', \"wb\") as fin:\n",
    "        np.savetxt(fin, data[mark1:mark2], delimiter=\",\", fmt='%f')\n",
    "        \n",
    "    with open('validate_v'+version+'.csv', \"wb\") as fin:\n",
    "        np.savetxt(fin, data[mark2:], delimiter=\",\", fmt='%f')\n",
    "\n",
    "                   "
   ]
  },
  {
   "cell_type": "code",
   "execution_count": 18,
   "metadata": {},
   "outputs": [],
   "source": [
    "mix_and_sep(data_v0,'0')\n",
    "mix_and_sep(data_v1,'1')\n",
    "mix_and_sep(data_v2,'2')\n",
    "mix_and_sep(data_v3,'3')\n",
    "mix_and_sep(data_v4,'4')\n",
    "mix_and_sep(data_v5,'5')\n",
    "mix_and_sep(data_v6,'6')\n",
    "mix_and_sep(data_v7,'7')\n",
    "mix_and_sep(data_v8,'8')"
   ]
  }
 ],
 "metadata": {
  "kernelspec": {
   "display_name": "Python 3",
   "language": "python",
   "name": "python3"
  },
  "language_info": {
   "codemirror_mode": {
    "name": "ipython",
    "version": 3
   },
   "file_extension": ".py",
   "mimetype": "text/x-python",
   "name": "python",
   "nbconvert_exporter": "python",
   "pygments_lexer": "ipython3",
   "version": "3.8.8"
  }
 },
 "nbformat": 4,
 "nbformat_minor": 4
}
