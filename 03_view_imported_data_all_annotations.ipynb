{
 "cells": [
  {
   "cell_type": "markdown",
   "metadata": {},
   "source": [
    "### Визуализация импортируемых файлов"
   ]
  },
  {
   "cell_type": "markdown",
   "metadata": {},
   "source": [
    "#### Загрузка библиотек"
   ]
  },
  {
   "cell_type": "code",
   "execution_count": 1,
   "metadata": {},
   "outputs": [],
   "source": [
    "import numpy as np\n",
    "from matplotlib import pyplot as plt"
   ]
  },
  {
   "cell_type": "markdown",
   "metadata": {},
   "source": [
    "#### Загрузка данных"
   ]
  },
  {
   "cell_type": "code",
   "execution_count": 11,
   "metadata": {},
   "outputs": [
    {
     "name": "stdout",
     "output_type": "stream",
     "text": [
      "[[6.62217e-01 9.00999e-01 3.66011e-01 ... 0.00000e+00 7.70000e+01\n",
      "  0.00000e+00]\n",
      " [4.16068e-01 3.18909e-01 6.34900e-02 ... 0.00000e+00 8.80000e+01\n",
      "  8.80000e+01]\n",
      " [6.07807e-01 7.51015e-01 2.96799e-01 ... 0.00000e+00 7.50000e+01\n",
      "  0.00000e+00]\n",
      " ...\n",
      " [6.76302e-01 9.40290e-01 4.37373e-01 ... 0.00000e+00 9.70000e+01\n",
      "  0.00000e+00]\n",
      " [6.20970e-01 9.08669e-01 5.06349e-01 ... 0.00000e+00 6.90000e+01\n",
      "  0.00000e+00]\n",
      " [6.85682e-01 8.98720e-01 3.98566e-01 ... 0.00000e+00 9.50000e+01\n",
      "  0.00000e+00]]\n"
     ]
    }
   ],
   "source": [
    "data = np.loadtxt('data_ecg_new/210_MLII_v2.csv', delimiter=',')\n",
    "print(data)"
   ]
  },
  {
   "cell_type": "markdown",
   "metadata": {},
   "source": [
    "#### Построение примера нормального и аномального удара"
   ]
  },
  {
   "cell_type": "code",
   "execution_count": 28,
   "metadata": {},
   "outputs": [
    {
     "data": {
      "image/png": "[encoded data removed]",
      "text/plain": [
       "<Figure size 432x288 with 2 Axes>"
      ]
     },
     "metadata": {
      "needs_background": "light"
     },
     "output_type": "display_data"
    }
   ],
   "source": [
    "\n",
    "times = np.arange(539, dtype = 'float') / 539\n",
    "beat_0 = data[0][:-4] # удар весь\n",
    "beat_1 = data[6][:-4] # удар весь\n",
    "anno_0 = data[0][-3] # тип удара (0/1)\n",
    "anno_1 = data[6][-3] # тип удара (0/1)\n",
    "    #plt.figure(figsize=(5,5))\n",
    "fig, (ax1, ax2) = plt.subplots(2)\n",
    "    #if (anno == 0.0):\n",
    "ax1.plot(times, beat_0, 'b')\n",
    "ax1.set(ylabel = 'Удар 0 тип ' + str(anno_0))\n",
    "ax2.plot(times, beat_1, 'r')\n",
    "ax2.set( ylabel = 'Удар 6 тип ' + str(anno_1))\n",
    "ax2.set(xlabel = 'Время, с')\n",
    "    \n",
    "plt.show()"
   ]
  },
  {
   "cell_type": "code",
   "execution_count": null,
   "metadata": {},
   "outputs": [],
   "source": []
  }
 ],
 "metadata": {
  "kernelspec": {
   "display_name": "Python 3",
   "language": "python",
   "name": "python3"
  },
  "language_info": {
   "codemirror_mode": {
    "name": "ipython",
    "version": 3
   },
   "file_extension": ".py",
   "mimetype": "text/x-python",
   "name": "python",
   "nbconvert_exporter": "python",
   "pygments_lexer": "ipython3",
   "version": "3.8.8"
  }
 },
 "nbformat": 4,
 "nbformat_minor": 4
}
