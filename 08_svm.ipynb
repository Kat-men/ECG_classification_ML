{
 "cells": [
  {
   "cell_type": "code",
   "execution_count": 1,
   "metadata": {},
   "outputs": [],
   "source": [
    "import numpy as np\n",
    "import pandas as pd\n",
    "import matplotlib.pyplot as plt\n",
    "import wfdb\n",
    "'''import PyWavelets'''\n",
    "from sklearn.utils import shuffle\n",
    "from sklearn.linear_model import LogisticRegression\n",
    "from sklearn import metrics\n",
    "from sklearn.metrics import classification_report\n",
    "from sklearn.svm import SVC\n",
    "from sklearn.model_selection import cross_val_score\n",
    "from sklearn.linear_model import LogisticRegression\n"
   ]
  },
  {
   "cell_type": "code",
   "execution_count": 2,
   "metadata": {},
   "outputs": [],
   "source": [
    "# Training dataset.\n",
    "df = pd.read_csv(\"train.csv\", header=None)\n",
    "x_train = df.values[:, :-1]\n",
    "y_train = df.values[:, -1].astype(int)\n",
    "\n",
    "\n",
    "# Validation dataset.\n",
    "df = pd.read_csv(\"validate.csv\", header=None)\n",
    "x_validate = df.values[:, :-1]\n",
    "y_validate = df.values[:, -1].astype(int)\n",
    "\n",
    "\n",
    "# Test dataset.\n",
    "df = pd.read_csv(\"test.csv\", header=None)\n",
    "x_test = df.values[:, :-1]\n",
    "y_test = df.values[:, -1].astype(int)\n"
   ]
  },
  {
   "cell_type": "code",
   "execution_count": 3,
   "metadata": {},
   "outputs": [],
   "source": [
    "del df"
   ]
  },
  {
   "cell_type": "code",
   "execution_count": null,
   "metadata": {},
   "outputs": [],
   "source": [
    "\n",
    "# cross-validation for choosing model svm\n",
    "\n",
    "clf_rbf = SVC(kernel='rbf',class_weight='balanced')\n",
    "\n",
    "scores_rbf = cross_val_score(clf_rbf, x_train, y_train, cv=10, scoring='accuracy')\n",
    "print(scores_rbf.mean())\n"
   ]
  },
  {
   "cell_type": "code",
   "execution_count": null,
   "metadata": {},
   "outputs": [],
   "source": [
    "#machine learning model(SVM)\n",
    "clf_rbf.fit(x_train,y_train)\n",
    "pred_valid=clf_rbf.predict(x_valid)\n",
    "print (classification_report(y_valid, pred_valid))\n",
    "fpr, tpr, thresholds = metrics.roc_curve(y_valid, pred_valid)\n",
    "print(metrics.auc(fpr, tpr))"
   ]
  },
  {
   "cell_type": "code",
   "execution_count": null,
   "metadata": {},
   "outputs": [],
   "source": []
  }
 ],
 "metadata": {
  "kernelspec": {
   "display_name": "Python 3",
   "language": "python",
   "name": "python3"
  },
  "language_info": {
   "codemirror_mode": {
    "name": "ipython",
    "version": 3
   },
   "file_extension": ".py",
   "mimetype": "text/x-python",
   "name": "python",
   "nbconvert_exporter": "python",
   "pygments_lexer": "ipython3",
   "version": "3.8.3"
  }
 },
 "nbformat": 4,
 "nbformat_minor": 4
}
