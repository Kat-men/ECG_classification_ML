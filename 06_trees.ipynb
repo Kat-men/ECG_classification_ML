{
 "cells": [
  {
   "cell_type": "markdown",
   "metadata": {},
   "source": [
    "# Initialize\n"
   ]
  },
  {
   "cell_type": "code",
   "execution_count": 1,
   "metadata": {},
   "outputs": [],
   "source": [
    "import numpy as np\n",
    "import pandas as pd\n",
    "import matplotlib.pyplot as plt\n",
    "from sklearn.tree import DecisionTreeClassifier\n",
    "import tensorflow as tf\n",
    "#tf.logging.set_verbosity(tf.logging.INFO)"
   ]
  },
  {
   "cell_type": "code",
   "execution_count": 2,
   "metadata": {},
   "outputs": [],
   "source": [
    "# Training dataset.\n",
    "df = pd.read_csv(\"train.csv\", header=None)\n",
    "x_train = df.values[:, :-1]\n",
    "y_train = df.values[:, -1].astype(int)\n",
    "\n",
    "# Validation dataset.\n",
    "df = pd.read_csv(\"validate.csv\", header=None)\n",
    "x_validate = df.values[:, :-1]\n",
    "y_validate = df.values[:, -1].astype(int)\n",
    "\n",
    "# Test dataset.\n",
    "df = pd.read_csv(\"test.csv\", header=None)\n",
    "x_test = df.values[:, :-1]\n",
    "y_test = df.values[:, -1].astype(int)"
   ]
  },
  {
   "cell_type": "code",
   "execution_count": 3,
   "metadata": {},
   "outputs": [],
   "source": [
    "del df"
   ]
  },
  {
   "cell_type": "code",
   "execution_count": 5,
   "metadata": {},
   "outputs": [],
   "source": [
    "#import numpy as np\n",
    "#import pandas as pd\n",
    "#import matplotlib.pyplot as plt\n",
    "#import tensorflow as tf\n",
    "#from tensorflow.contrib.tensor_forest.python import tensor_forest\n",
    "#from tensorflow.python.ops import resources"
   ]
  },
  {
   "cell_type": "code",
   "execution_count": 6,
   "metadata": {},
   "outputs": [],
   "source": [
    "\n",
    "#Random Forest Parameters\n",
    "num_steps = 500 # Total steps to train\n",
    "batch_size = 512 # The number of samples per batch\n",
    "num_classes = 2 # The 10 digits\n",
    "num_features = 2 # Each image is 28x28 pixels\n",
    "num_trees = 10\n",
    "max_nodes = 1000"
   ]
  },
  {
   "cell_type": "code",
   "execution_count": 7,
   "metadata": {},
   "outputs": [
    {
     "name": "stdout",
     "output_type": "stream",
     "text": [
      "Decision Tree Model Accuracy:  0.9514458452453485\n"
     ]
    },
    {
     "data": {
      "text/plain": [
       "\"estimator = tf.estimator.BoostedTreesClassifier(\\n   feature_columns=num_features,\\n   n_batches_per_layer= 110,\\n   model_dir='ecg_model_Tree',\\n   max_depth=7,\\n   learning_rate=0.26,\\n   n_classes=2,\\n   min_node_weight=0.9\\n   \\n)\\n\\n\\n#input_fn_train = tf.compat.v1.estimator.inputs.numpy_input_fn(\\n    x={'beat': x_train},\\n    y=y_train,\\n    num_epochs=None,\\n    batch_size=50,\\n    shuffle=True\\n)\\n#tf.compat.v1.estimator.inputs\\ninput_fn_train = tf.compat.v1.estimator.inputs.numpy_input_fn(\\n    x={'beat': x_train},\\n    y=y_train,\\n    batch_size=50,\\n    shuffle=True,\\n    num_epochs=None\\n)\""
      ]
     },
     "execution_count": 7,
     "metadata": {},
     "output_type": "execute_result"
    }
   ],
   "source": [
    "# Train\n",
    "tree_model = DecisionTreeClassifier()\n",
    "tree_model.fit(x_train, y_train)\n",
    "print(\"Decision Tree Model Accuracy: \", tree_model.score(x_test, y_test))\n",
    "#feature_columns = [tf.feature_column.numeric_column('beat', shape=[187])]\n",
    "#print(feature_columns)\n",
    "\n",
    "'''estimator = tf.estimator.BoostedTreesClassifier(\n",
    "   feature_columns=num_features,\n",
    "   n_batches_per_layer= 110,\n",
    "   model_dir='ecg_model_Tree',\n",
    "   max_depth=7,\n",
    "   learning_rate=0.26,\n",
    "   n_classes=2,\n",
    "   min_node_weight=0.9\n",
    "   \n",
    ")\n",
    "\n",
    "\n",
    "#input_fn_train = tf.compat.v1.estimator.inputs.numpy_input_fn(\n",
    "    x={'beat': x_train},\n",
    "    y=y_train,\n",
    "    num_epochs=None,\n",
    "    batch_size=50,\n",
    "    shuffle=True\n",
    ")\n",
    "#tf.compat.v1.estimator.inputs\n",
    "input_fn_train = tf.compat.v1.estimator.inputs.numpy_input_fn(\n",
    "    x={'beat': x_train},\n",
    "    y=y_train,\n",
    "    batch_size=50,\n",
    "    shuffle=True,\n",
    "    num_epochs=None\n",
    ")'''\n"
   ]
  },
  {
   "cell_type": "code",
   "execution_count": 14,
   "metadata": {},
   "outputs": [
    {
     "name": "stdout",
     "output_type": "stream",
     "text": [
      "WARNING:tensorflow:From C:\\Users\\User\\anaconda3\\lib\\site-packages\\tensorflow\\python\\util\\lazy_loader.py:63: The name tf.estimator.inputs is deprecated. Please use tf.compat.v1.estimator.inputs instead.\n",
      "\n"
     ]
    },
    {
     "ename": "NameError",
     "evalue": "name 'estimator' is not defined",
     "output_type": "error",
     "traceback": [
      "\u001b[1;31m---------------------------------------------------------------------------\u001b[0m",
      "\u001b[1;31mNameError\u001b[0m                                 Traceback (most recent call last)",
      "\u001b[1;32m<ipython-input-14-1d43b182dc0c>\u001b[0m in \u001b[0;36m<module>\u001b[1;34m\u001b[0m\n\u001b[0;32m      7\u001b[0m )\n\u001b[0;32m      8\u001b[0m \u001b[1;33m\u001b[0m\u001b[0m\n\u001b[1;32m----> 9\u001b[1;33m \u001b[0mestimator\u001b[0m\u001b[1;33m.\u001b[0m\u001b[0mtrain\u001b[0m\u001b[1;33m(\u001b[0m\u001b[0minput_fn\u001b[0m\u001b[1;33m=\u001b[0m\u001b[0minput_fn_train\u001b[0m\u001b[1;33m,\u001b[0m \u001b[0msteps\u001b[0m\u001b[1;33m=\u001b[0m\u001b[1;36m400000\u001b[0m\u001b[1;33m)\u001b[0m\u001b[1;33m\u001b[0m\u001b[1;33m\u001b[0m\u001b[0m\n\u001b[0m\u001b[0;32m     10\u001b[0m \u001b[0mlinear_est\u001b[0m \u001b[1;33m=\u001b[0m \u001b[0mtf\u001b[0m\u001b[1;33m.\u001b[0m\u001b[0mestimator\u001b[0m\u001b[1;33m.\u001b[0m\u001b[0mLinearClassifier\u001b[0m\u001b[1;33m(\u001b[0m\u001b[0mfeature_columns\u001b[0m\u001b[1;33m)\u001b[0m\u001b[1;33m\u001b[0m\u001b[1;33m\u001b[0m\u001b[0m\n\u001b[0;32m     11\u001b[0m \u001b[1;33m\u001b[0m\u001b[0m\n",
      "\u001b[1;31mNameError\u001b[0m: name 'estimator' is not defined"
     ]
    }
   ],
   "source": [
    "input_fn_train = tf.compat.v1.estimator.inputs.numpy_input_fn(\n",
    "    x={'beat': x_train},\n",
    "    y=y_train,\n",
    "    batch_size=50,\n",
    "    shuffle=True,\n",
    "    num_epochs=None\n",
    ")\n",
    "\n",
    "estimator.train(input_fn=input_fn_train, steps=400000)\n",
    "linear_est = tf.estimator.LinearClassifier(feature_columns)\n",
    "\n",
    "# Train model.\n",
    "linear_est.train(train_input_fn, max_steps=100)\n",
    "\n",
    "# Evaluation.\n",
    "result = linear_est.evaluate(eval_input_fn)\n",
    "clear_output()\n",
    "print(pd.Series(result))"
   ]
  },
  {
   "cell_type": "code",
   "execution_count": null,
   "metadata": {},
   "outputs": [],
   "source": []
  }
 ],
 "metadata": {
  "kernelspec": {
   "display_name": "Python 3",
   "language": "python",
   "name": "python3"
  },
  "language_info": {
   "codemirror_mode": {
    "name": "ipython",
    "version": 3
   },
   "file_extension": ".py",
   "mimetype": "text/x-python",
   "name": "python",
   "nbconvert_exporter": "python",
   "pygments_lexer": "ipython3",
   "version": "3.8.8"
  }
 },
 "nbformat": 4,
 "nbformat_minor": 4
}
